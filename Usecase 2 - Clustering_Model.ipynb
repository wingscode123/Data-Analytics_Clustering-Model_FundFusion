{
  "cells": [
    {
      "cell_type": "markdown",
      "metadata": {
        "id": "-bmw8rap5MYw"
      },
      "source": [
        "### **PROBLEM STATEMENT**"
      ]
    },
    {
      "cell_type": "markdown",
      "metadata": {
        "id": "WmUdE-NN5MYy"
      },
      "source": [
        "Belum memiliki strategi yang tepat untuk menawarkan jenis produk yang sesuai dengan segmen calon nasabah yang akan direkrut"
      ]
    },
    {
      "cell_type": "markdown",
      "metadata": {
        "id": "XLjyY1BX5MY0"
      },
      "source": [
        "### **OBJECTIVE**"
      ]
    },
    {
      "cell_type": "markdown",
      "metadata": {
        "id": "gXOK5NXl5MY2"
      },
      "source": [
        "Membuat Sebuah Model Clustering untuk mengetahui kepemilikan produk berdasarkan demografi nasabah yang saat ini sudah menggunakan layanan FundFusion dengan Silhouette Score >0.7\n"
      ]
    },
    {
      "cell_type": "markdown",
      "metadata": {
        "id": "ZM12n6sJ5MY3"
      },
      "source": [
        "### **VARIABEL YANG TERSEDIA**"
      ]
    },
    {
      "cell_type": "markdown",
      "metadata": {
        "id": "MgMXq0rw5MY4"
      },
      "source": [
        "Dari dataset yang dimiliki terdapat beberapa data yang tersedia:\n",
        "\n",
        "\n",
        "---\n",
        "**1. GCIF                     :** Unique Identifier Nasabah\\\n",
        "**2. Area                     :** Lokasi Nasabah (Jakarta,Bogor,Bandung,Surabaya,Jogja,Solo)\\\n",
        "**3. Jalur_Pembukaan          :** Touch Points Nasabah membuka produk --> Cabang, Telemarketing, Aplikasi Digital, Internet Banking\\\n",
        "**4. Vintage                  :** Durasi Menjadi Nasabah (Sejak membuka akun)\\\n",
        "**5. Usia                     :** Usia Nasabah\\\n",
        "**6. Jenis_Kelamin            :** Laki-laki (1) & Perempuan (0)\\\n",
        "**7. Status_Perkawinan        :** Belum Menikah (0), Menikah (1), Cerai (2), Janda/Duda (3)\\\n",
        "**8. Jumlah_Anak              :** Jumlah Anak Nasabah (numerik)\\\n",
        "**9. Pendidikan               :** Status Pendidikan Terakhir --> Tidak Memiliki Pendidikan Formal (0), SD (1), SMP (2), SMA (3), Sarjana (4), Magister (5), Doktor (6)\\\n",
        "**10. Produk_Tabungan         :** Status Kepemilikan Produk (Yes/1, No/0)\\\n",
        "**11. Produk_Deposito         :** Status Kepemilikan Produk (Yes/1, No/0)\\\n",
        "**12. Produk_Kartu_Kredit     :** Status Kepemilikan Produk (Yes/1, No/0)\\\n",
        "**13. Produk_Kredit_Rumah     :** Status Kepemilikan Produk (Yes/1, No/0)\\\n",
        "**14. Produk_Kredit_Kendaraan :** Status Kepemilikan Produk (Yes/1, No/0)\\\n",
        "**15. Produk_Kredit_Dana_Tunai:** Status Kepemilikan Produk (Yes/1, No/0)\\\n",
        "**16. Total_Kepemilikan_Produk:** Jumlah Produk Yang Dimiliki (Penjumlahan dari Produk2)\\\n",
        "**17. Pendapatan_Tahunan      :** Rata-rata Pendapatan Dalam Setahun\\\n",
        "**18. Total_Relationship_Balance :** Total Asset Nasabah dalam Cutoff Bulan Observasi\\\n",
        "\n",
        "\n",
        "\n"
      ]
    },
    {
      "cell_type": "markdown",
      "metadata": {
        "id": "0vHP5Roc5MY5"
      },
      "source": [
        "# **EXPERIMENT**"
      ]
    },
    {
      "cell_type": "markdown",
      "metadata": {
        "id": "OM729BKP5MY6"
      },
      "source": [
        "Point of View:\n",
        "1. Dikelompokkan berdasarkan demografis untuk dicari pattern kepemilikan produk\n",
        "2. Dikelompookan berdasarkan kepemilikan produk untuk dicari patter berdasarkan demografisnya"
      ]
    },
    {
      "cell_type": "markdown",
      "metadata": {
        "id": "C_NKtQgj5MY7"
      },
      "source": [
        "# **IMPORT PACKAGE**"
      ]
    },
    {
      "cell_type": "code",
      "execution_count": 1,
      "metadata": {
        "id": "NDFdqLoC5MY7"
      },
      "outputs": [],
      "source": [
        "import pandas as pd\n",
        "import numpy as np\n",
        "import matplotlib.pyplot as plt\n",
        "import seaborn as sns\n",
        "import time"
      ]
    },
    {
      "cell_type": "code",
      "execution_count": 17,
      "metadata": {
        "id": "hg17Jo9d5MY9"
      },
      "outputs": [],
      "source": [
        "pd.set_option('display.max_columns', None)"
      ]
    },
    {
      "cell_type": "markdown",
      "metadata": {
        "id": "98kjMY405MY9"
      },
      "source": [
        "# **Data For Clustering**"
      ]
    },
    {
      "cell_type": "code",
      "execution_count": 18,
      "metadata": {
        "id": "nm0yZp_Y5MY-"
      },
      "outputs": [],
      "source": [
        "path_1 = \"https://raw.githubusercontent.com/brainspopper/dataset/main/clustering_data.csv\"\n",
        "data = pd.read_csv(path_1)"
      ]
    },
    {
      "cell_type": "code",
      "execution_count": 19,
      "metadata": {
        "colab": {
          "base_uri": "https://localhost:8080/"
        },
        "id": "BS87goDW5MY_",
        "outputId": "33ea4b48-69b0-4fe9-dd6b-a8e4d0b85f67"
      },
      "outputs": [
        {
          "data": {
            "text/plain": [
              "GCIF                           object\n",
              "Area                           object\n",
              "Jalur_Pembukaan                object\n",
              "Vintage                        object\n",
              "Usia                          float64\n",
              "Jenis_Kelamin                  object\n",
              "Status_Perkawinan              object\n",
              "Jumlah_Anak                     int64\n",
              "Pendidikan                     object\n",
              "Produk_Tabungan                 int64\n",
              "Produk_Deposito                 int64\n",
              "Produk_Kartu_Kredit             int64\n",
              "Produk_Kredit_Rumah             int64\n",
              "Produk_Kredit_Kendaraan         int64\n",
              "Produk_Kredit_Dana_Tunai        int64\n",
              "Total_Kepemilikan_Produk        int64\n",
              "Pendapatan_Tahunan              int64\n",
              "Total_Relationship_Balance      int64\n",
              "dtype: object"
            ]
          },
          "execution_count": 19,
          "metadata": {},
          "output_type": "execute_result"
        }
      ],
      "source": [
        "data.dtypes"
      ]
    },
    {
      "cell_type": "markdown",
      "metadata": {
        "id": "lNdZukxH5MZA"
      },
      "source": [
        "# **Data Understanding**"
      ]
    },
    {
      "cell_type": "code",
      "execution_count": 20,
      "metadata": {
        "colab": {
          "base_uri": "https://localhost:8080/"
        },
        "id": "bV5VYeIC5MZA",
        "outputId": "2293d77c-0af9-4630-d081-78fddc27236b"
      },
      "outputs": [
        {
          "data": {
            "text/plain": [
              "Area\n",
              "Bandung     6917\n",
              "Bogor       1191\n",
              "Jakarta     7017\n",
              "Jogja       3001\n",
              "Solo        5001\n",
              "Surabaya    5002\n",
              "Name: Area, dtype: int64"
            ]
          },
          "execution_count": 20,
          "metadata": {},
          "output_type": "execute_result"
        }
      ],
      "source": [
        "data.groupby(('Area'))['Area'].count()"
      ]
    },
    {
      "cell_type": "code",
      "execution_count": 24,
      "metadata": {
        "colab": {
          "base_uri": "https://localhost:8080/"
        },
        "id": "iM3ia38a5MZB",
        "outputId": "d1fcce14-011f-4ed5-ea03-cf6a3b9e6723"
      },
      "outputs": [
        {
          "data": {
            "text/plain": [
              "Vintage\n",
              "2 - 3 Tahun    13953\n",
              "< 1 Tahun       9278\n",
              "> 4 Tahun       4898\n",
              "Name: Vintage, dtype: int64"
            ]
          },
          "execution_count": 24,
          "metadata": {},
          "output_type": "execute_result"
        }
      ],
      "source": [
        "data.groupby(('Vintage'))['Vintage'].count()"
      ]
    },
    {
      "cell_type": "code",
      "execution_count": 28,
      "metadata": {
        "colab": {
          "base_uri": "https://localhost:8080/"
        },
        "id": "EKlduzJx5MZC",
        "outputId": "af1416fc-03e5-4f4f-8ffb-722bbe0435fc"
      },
      "outputs": [
        {
          "data": {
            "text/plain": [
              "Jalur_Pembukaan\n",
              "Aplikasi Digital     6216\n",
              "Cabang               5856\n",
              "Internet Banking     5795\n",
              "Telemarketing       10262\n",
              "Name: Jalur_Pembukaan, dtype: int64"
            ]
          },
          "execution_count": 28,
          "metadata": {},
          "output_type": "execute_result"
        }
      ],
      "source": [
        "data.groupby(('Jalur_Pembukaan'))['Jalur_Pembukaan'].count()"
      ]
    },
    {
      "cell_type": "code",
      "execution_count": 29,
      "metadata": {
        "colab": {
          "base_uri": "https://localhost:8080/"
        },
        "id": "qXEf_Rt15MZE",
        "outputId": "9a9c7696-aa36-4534-c847-757e60fb6c4d"
      },
      "outputs": [
        {
          "data": {
            "text/plain": [
              "Status_Perkawinan\n",
              "Belum Menikah     8168\n",
              "Cerai             4077\n",
              "Janda/Duda        4045\n",
              "Menikah          11839\n",
              "Name: Status_Perkawinan, dtype: int64"
            ]
          },
          "execution_count": 29,
          "metadata": {},
          "output_type": "execute_result"
        }
      ],
      "source": [
        "data.groupby(('Status_Perkawinan'))['Status_Perkawinan'].count()"
      ]
    },
    {
      "cell_type": "markdown",
      "metadata": {
        "id": "6KI7FnFn5MZG"
      },
      "source": [
        "# **Data Preparation**"
      ]
    },
    {
      "cell_type": "markdown",
      "metadata": {
        "id": "70W6l7Ry5MZH"
      },
      "source": [
        "## Pengecekan Data Duplikat dan *Missing Data*"
      ]
    },
    {
      "cell_type": "code",
      "execution_count": 32,
      "metadata": {
        "colab": {
          "base_uri": "https://localhost:8080/"
        },
        "id": "Ie8k0Vye5MZH",
        "outputId": "4007e007-b5c4-4c19-a934-08a2c359f83f"
      },
      "outputs": [
        {
          "data": {
            "text/plain": [
              "GCIF                             0\n",
              "Area                             0\n",
              "Jalur_Pembukaan                  0\n",
              "Vintage                          0\n",
              "Usia                          4045\n",
              "Jenis_Kelamin                    0\n",
              "Status_Perkawinan                0\n",
              "Jumlah_Anak                      0\n",
              "Pendidikan                       0\n",
              "Produk_Tabungan                  0\n",
              "Produk_Deposito                  0\n",
              "Produk_Kartu_Kredit              0\n",
              "Produk_Kredit_Rumah              0\n",
              "Produk_Kredit_Kendaraan          0\n",
              "Produk_Kredit_Dana_Tunai         0\n",
              "Total_Kepemilikan_Produk         0\n",
              "Pendapatan_Tahunan               0\n",
              "Total_Relationship_Balance       0\n",
              "dtype: int64"
            ]
          },
          "execution_count": 32,
          "metadata": {},
          "output_type": "execute_result"
        }
      ],
      "source": [
        "data.isnull().sum()"
      ]
    },
    {
      "cell_type": "code",
      "execution_count": 33,
      "metadata": {
        "id": "KTYlnrp95MZI"
      },
      "outputs": [],
      "source": [
        "data = data.dropna()"
      ]
    },
    {
      "cell_type": "code",
      "execution_count": 34,
      "metadata": {
        "colab": {
          "base_uri": "https://localhost:8080/"
        },
        "id": "Py-KKyOB5MZI",
        "outputId": "ece03e76-4486-49b9-8dba-ed9fd023a5d4"
      },
      "outputs": [
        {
          "data": {
            "text/plain": [
              "GCIF                          0\n",
              "Area                          0\n",
              "Jalur_Pembukaan               0\n",
              "Vintage                       0\n",
              "Usia                          0\n",
              "Jenis_Kelamin                 0\n",
              "Status_Perkawinan             0\n",
              "Jumlah_Anak                   0\n",
              "Pendidikan                    0\n",
              "Produk_Tabungan               0\n",
              "Produk_Deposito               0\n",
              "Produk_Kartu_Kredit           0\n",
              "Produk_Kredit_Rumah           0\n",
              "Produk_Kredit_Kendaraan       0\n",
              "Produk_Kredit_Dana_Tunai      0\n",
              "Total_Kepemilikan_Produk      0\n",
              "Pendapatan_Tahunan            0\n",
              "Total_Relationship_Balance    0\n",
              "dtype: int64"
            ]
          },
          "execution_count": 34,
          "metadata": {},
          "output_type": "execute_result"
        }
      ],
      "source": [
        "data.isnull().sum()"
      ]
    },
    {
      "cell_type": "code",
      "execution_count": 35,
      "metadata": {
        "colab": {
          "base_uri": "https://localhost:8080/"
        },
        "id": "wbpKPtOV5MZJ",
        "outputId": "d8df173c-d112-472f-c20e-e89045001264"
      },
      "outputs": [
        {
          "data": {
            "text/plain": [
              "0"
            ]
          },
          "execution_count": 35,
          "metadata": {},
          "output_type": "execute_result"
        }
      ],
      "source": [
        "data.duplicated().sum()"
      ]
    },
    {
      "cell_type": "markdown",
      "metadata": {
        "id": "TH8oLXxo5MZJ"
      },
      "source": [
        "## Pengecekan Data Outlier"
      ]
    },
    {
      "cell_type": "code",
      "execution_count": 36,
      "metadata": {
        "colab": {
          "base_uri": "https://localhost:8080/"
        },
        "id": "4Lh7KNZB5MZK",
        "outputId": "6fa739a0-2603-4c3f-cc46-f65b6548a0ba"
      },
      "outputs": [
        {
          "data": {
            "text/plain": [
              "GCIF                          24084\n",
              "Area                          24084\n",
              "Jalur_Pembukaan               24084\n",
              "Vintage                       24084\n",
              "Usia                          24084\n",
              "Jenis_Kelamin                 24084\n",
              "Status_Perkawinan             24084\n",
              "Jumlah_Anak                   24084\n",
              "Pendidikan                    24084\n",
              "Produk_Tabungan               24084\n",
              "Produk_Deposito               24084\n",
              "Produk_Kartu_Kredit           24084\n",
              "Produk_Kredit_Rumah           24084\n",
              "Produk_Kredit_Kendaraan       24084\n",
              "Produk_Kredit_Dana_Tunai      24084\n",
              "Total_Kepemilikan_Produk      24084\n",
              "Pendapatan_Tahunan            24084\n",
              "Total_Relationship_Balance    24084\n",
              "dtype: int64"
            ]
          },
          "execution_count": 36,
          "metadata": {},
          "output_type": "execute_result"
        }
      ],
      "source": [
        "data.count()"
      ]
    },
    {
      "cell_type": "code",
      "execution_count": 18,
      "metadata": {
        "id": "1gKDMiK45MZK"
      },
      "outputs": [],
      "source": [
        "# Mendeteksi dan mengatasi outliers (contoh dengan Z-Score)\n",
        "from scipy import stats\n",
        "z_scores = stats.zscore(data[['Usia', 'Pendapatan_Tahunan', 'Total_Relationship_Balance']])\n",
        "data = data[(z_scores < 3).all(axis=1)]  # Menghapus data dengan Z-Score lebih dari 3"
      ]
    },
    {
      "cell_type": "code",
      "execution_count": 42,
      "metadata": {
        "colab": {
          "base_uri": "https://localhost:8080/"
        },
        "id": "DwaycBLG5MZL",
        "outputId": "b9fafae5-40dc-4889-bcb1-51e22c138d8d"
      },
      "outputs": [
        {
          "data": {
            "text/plain": [
              "GCIF                          23704\n",
              "Area                          23704\n",
              "Jalur_Pembukaan               23704\n",
              "Vintage                       23704\n",
              "Usia                          23704\n",
              "Jenis_Kelamin                 23704\n",
              "Status_Perkawinan             23704\n",
              "Jumlah_Anak                   23704\n",
              "Pendidikan                    23704\n",
              "Produk_Tabungan               23704\n",
              "Produk_Deposito               23704\n",
              "Produk_Kartu_Kredit           23704\n",
              "Produk_Kredit_Rumah           23704\n",
              "Produk_Kredit_Kendaraan       23704\n",
              "Produk_Kredit_Dana_Tunai      23704\n",
              "Total_Kepemilikan_Produk      23704\n",
              "Pendapatan_Tahunan            23704\n",
              "Total_Relationship_Balance    23704\n",
              "dtype: int64"
            ]
          },
          "execution_count": 42,
          "metadata": {},
          "output_type": "execute_result"
        }
      ],
      "source": [
        "data.count()"
      ]
    },
    {
      "cell_type": "markdown",
      "metadata": {
        "id": "Ytu82z_08k6_"
      },
      "source": [
        "## Filtering Data Telemarketing Only"
      ]
    },
    {
      "cell_type": "code",
      "execution_count": 43,
      "metadata": {
        "id": "_LZjqsWo8qLL"
      },
      "outputs": [],
      "source": [
        "data0= data[data['Jalur_Pembukaan'] == 'Telemarketing']"
      ]
    },
    {
      "cell_type": "code",
      "execution_count": 44,
      "metadata": {
        "colab": {
          "base_uri": "https://localhost:8080/",
          "height": 617
        },
        "id": "RqXKKruH8xn3",
        "outputId": "13e9212f-3785-438c-ef7a-35f99d1fe7c7"
      },
      "outputs": [
        {
          "data": {
            "text/html": [
              "<div>\n",
              "<style scoped>\n",
              "    .dataframe tbody tr th:only-of-type {\n",
              "        vertical-align: middle;\n",
              "    }\n",
              "\n",
              "    .dataframe tbody tr th {\n",
              "        vertical-align: top;\n",
              "    }\n",
              "\n",
              "    .dataframe thead th {\n",
              "        text-align: right;\n",
              "    }\n",
              "</style>\n",
              "<table border=\"1\" class=\"dataframe\">\n",
              "  <thead>\n",
              "    <tr style=\"text-align: right;\">\n",
              "      <th></th>\n",
              "      <th>GCIF</th>\n",
              "      <th>Area</th>\n",
              "      <th>Jalur_Pembukaan</th>\n",
              "      <th>Vintage</th>\n",
              "      <th>Usia</th>\n",
              "      <th>Jenis_Kelamin</th>\n",
              "      <th>Status_Perkawinan</th>\n",
              "      <th>Jumlah_Anak</th>\n",
              "      <th>Pendidikan</th>\n",
              "      <th>Produk_Tabungan</th>\n",
              "      <th>Produk_Deposito</th>\n",
              "      <th>Produk_Kartu_Kredit</th>\n",
              "      <th>Produk_Kredit_Rumah</th>\n",
              "      <th>Produk_Kredit_Kendaraan</th>\n",
              "      <th>Produk_Kredit_Dana_Tunai</th>\n",
              "      <th>Total_Kepemilikan_Produk</th>\n",
              "      <th>Pendapatan_Tahunan</th>\n",
              "      <th>Total_Relationship_Balance</th>\n",
              "    </tr>\n",
              "  </thead>\n",
              "  <tbody>\n",
              "    <tr>\n",
              "      <th>1</th>\n",
              "      <td>G18528</td>\n",
              "      <td>Jakarta</td>\n",
              "      <td>Telemarketing</td>\n",
              "      <td>&lt; 1 Tahun</td>\n",
              "      <td>23.0</td>\n",
              "      <td>Laki-laki</td>\n",
              "      <td>Belum Menikah</td>\n",
              "      <td>0</td>\n",
              "      <td>Doktor</td>\n",
              "      <td>1</td>\n",
              "      <td>0</td>\n",
              "      <td>0</td>\n",
              "      <td>0</td>\n",
              "      <td>0</td>\n",
              "      <td>0</td>\n",
              "      <td>1</td>\n",
              "      <td>198</td>\n",
              "      <td>10668586</td>\n",
              "    </tr>\n",
              "    <tr>\n",
              "      <th>2</th>\n",
              "      <td>G22419</td>\n",
              "      <td>Surabaya</td>\n",
              "      <td>Telemarketing</td>\n",
              "      <td>&lt; 1 Tahun</td>\n",
              "      <td>30.0</td>\n",
              "      <td>Laki-laki</td>\n",
              "      <td>Belum Menikah</td>\n",
              "      <td>0</td>\n",
              "      <td>Doktor</td>\n",
              "      <td>1</td>\n",
              "      <td>0</td>\n",
              "      <td>0</td>\n",
              "      <td>0</td>\n",
              "      <td>0</td>\n",
              "      <td>0</td>\n",
              "      <td>1</td>\n",
              "      <td>280</td>\n",
              "      <td>299076075</td>\n",
              "    </tr>\n",
              "    <tr>\n",
              "      <th>7</th>\n",
              "      <td>G13193</td>\n",
              "      <td>Solo</td>\n",
              "      <td>Telemarketing</td>\n",
              "      <td>&lt; 1 Tahun</td>\n",
              "      <td>29.0</td>\n",
              "      <td>Laki-laki</td>\n",
              "      <td>Belum Menikah</td>\n",
              "      <td>0</td>\n",
              "      <td>Doktor</td>\n",
              "      <td>1</td>\n",
              "      <td>0</td>\n",
              "      <td>0</td>\n",
              "      <td>0</td>\n",
              "      <td>0</td>\n",
              "      <td>0</td>\n",
              "      <td>1</td>\n",
              "      <td>295</td>\n",
              "      <td>76653088</td>\n",
              "    </tr>\n",
              "    <tr>\n",
              "      <th>8</th>\n",
              "      <td>G09296</td>\n",
              "      <td>Jakarta</td>\n",
              "      <td>Telemarketing</td>\n",
              "      <td>&lt; 1 Tahun</td>\n",
              "      <td>49.0</td>\n",
              "      <td>Laki-laki</td>\n",
              "      <td>Belum Menikah</td>\n",
              "      <td>0</td>\n",
              "      <td>Doktor</td>\n",
              "      <td>1</td>\n",
              "      <td>0</td>\n",
              "      <td>0</td>\n",
              "      <td>0</td>\n",
              "      <td>0</td>\n",
              "      <td>0</td>\n",
              "      <td>1</td>\n",
              "      <td>443</td>\n",
              "      <td>247157199</td>\n",
              "    </tr>\n",
              "    <tr>\n",
              "      <th>9</th>\n",
              "      <td>G09228</td>\n",
              "      <td>Jakarta</td>\n",
              "      <td>Telemarketing</td>\n",
              "      <td>&lt; 1 Tahun</td>\n",
              "      <td>21.0</td>\n",
              "      <td>Perempuan</td>\n",
              "      <td>Belum Menikah</td>\n",
              "      <td>0</td>\n",
              "      <td>Doktor</td>\n",
              "      <td>1</td>\n",
              "      <td>0</td>\n",
              "      <td>0</td>\n",
              "      <td>0</td>\n",
              "      <td>0</td>\n",
              "      <td>0</td>\n",
              "      <td>1</td>\n",
              "      <td>257</td>\n",
              "      <td>27585562</td>\n",
              "    </tr>\n",
              "    <tr>\n",
              "      <th>...</th>\n",
              "      <td>...</td>\n",
              "      <td>...</td>\n",
              "      <td>...</td>\n",
              "      <td>...</td>\n",
              "      <td>...</td>\n",
              "      <td>...</td>\n",
              "      <td>...</td>\n",
              "      <td>...</td>\n",
              "      <td>...</td>\n",
              "      <td>...</td>\n",
              "      <td>...</td>\n",
              "      <td>...</td>\n",
              "      <td>...</td>\n",
              "      <td>...</td>\n",
              "      <td>...</td>\n",
              "      <td>...</td>\n",
              "      <td>...</td>\n",
              "      <td>...</td>\n",
              "    </tr>\n",
              "    <tr>\n",
              "      <th>28089</th>\n",
              "      <td>G19583</td>\n",
              "      <td>Bandung</td>\n",
              "      <td>Telemarketing</td>\n",
              "      <td>2 - 3 Tahun</td>\n",
              "      <td>54.0</td>\n",
              "      <td>Laki-laki</td>\n",
              "      <td>Menikah</td>\n",
              "      <td>0</td>\n",
              "      <td>Tidak Sekolah Formal</td>\n",
              "      <td>1</td>\n",
              "      <td>1</td>\n",
              "      <td>1</td>\n",
              "      <td>1</td>\n",
              "      <td>0</td>\n",
              "      <td>1</td>\n",
              "      <td>5</td>\n",
              "      <td>489</td>\n",
              "      <td>321693904</td>\n",
              "    </tr>\n",
              "    <tr>\n",
              "      <th>28090</th>\n",
              "      <td>G18081</td>\n",
              "      <td>Jakarta</td>\n",
              "      <td>Telemarketing</td>\n",
              "      <td>2 - 3 Tahun</td>\n",
              "      <td>58.0</td>\n",
              "      <td>Laki-laki</td>\n",
              "      <td>Belum Menikah</td>\n",
              "      <td>0</td>\n",
              "      <td>Tidak Sekolah Formal</td>\n",
              "      <td>1</td>\n",
              "      <td>1</td>\n",
              "      <td>1</td>\n",
              "      <td>1</td>\n",
              "      <td>1</td>\n",
              "      <td>0</td>\n",
              "      <td>5</td>\n",
              "      <td>658</td>\n",
              "      <td>224477967</td>\n",
              "    </tr>\n",
              "    <tr>\n",
              "      <th>28092</th>\n",
              "      <td>G18530</td>\n",
              "      <td>Bandung</td>\n",
              "      <td>Telemarketing</td>\n",
              "      <td>2 - 3 Tahun</td>\n",
              "      <td>42.0</td>\n",
              "      <td>Laki-laki</td>\n",
              "      <td>Cerai</td>\n",
              "      <td>3</td>\n",
              "      <td>Tidak Sekolah Formal</td>\n",
              "      <td>1</td>\n",
              "      <td>1</td>\n",
              "      <td>1</td>\n",
              "      <td>1</td>\n",
              "      <td>0</td>\n",
              "      <td>1</td>\n",
              "      <td>5</td>\n",
              "      <td>585</td>\n",
              "      <td>411871605</td>\n",
              "    </tr>\n",
              "    <tr>\n",
              "      <th>28095</th>\n",
              "      <td>G03782</td>\n",
              "      <td>Jogja</td>\n",
              "      <td>Telemarketing</td>\n",
              "      <td>2 - 3 Tahun</td>\n",
              "      <td>44.0</td>\n",
              "      <td>Laki-laki</td>\n",
              "      <td>Cerai</td>\n",
              "      <td>1</td>\n",
              "      <td>Tidak Sekolah Formal</td>\n",
              "      <td>1</td>\n",
              "      <td>1</td>\n",
              "      <td>0</td>\n",
              "      <td>1</td>\n",
              "      <td>1</td>\n",
              "      <td>1</td>\n",
              "      <td>5</td>\n",
              "      <td>279</td>\n",
              "      <td>161744694</td>\n",
              "    </tr>\n",
              "    <tr>\n",
              "      <th>28119</th>\n",
              "      <td>G08939</td>\n",
              "      <td>Solo</td>\n",
              "      <td>Telemarketing</td>\n",
              "      <td>2 - 3 Tahun</td>\n",
              "      <td>33.0</td>\n",
              "      <td>Laki-laki</td>\n",
              "      <td>Menikah</td>\n",
              "      <td>2</td>\n",
              "      <td>Tidak Sekolah Formal</td>\n",
              "      <td>1</td>\n",
              "      <td>1</td>\n",
              "      <td>1</td>\n",
              "      <td>1</td>\n",
              "      <td>1</td>\n",
              "      <td>1</td>\n",
              "      <td>6</td>\n",
              "      <td>366</td>\n",
              "      <td>146178244</td>\n",
              "    </tr>\n",
              "  </tbody>\n",
              "</table>\n",
              "<p>8653 rows × 18 columns</p>\n",
              "</div>"
            ],
            "text/plain": [
              "         GCIF      Area Jalur_Pembukaan      Vintage  Usia Jenis_Kelamin  \\\n",
              "1      G18528   Jakarta   Telemarketing    < 1 Tahun  23.0     Laki-laki   \n",
              "2      G22419  Surabaya   Telemarketing    < 1 Tahun  30.0     Laki-laki   \n",
              "7      G13193      Solo   Telemarketing    < 1 Tahun  29.0     Laki-laki   \n",
              "8      G09296   Jakarta   Telemarketing    < 1 Tahun  49.0     Laki-laki   \n",
              "9      G09228   Jakarta   Telemarketing    < 1 Tahun  21.0     Perempuan   \n",
              "...       ...       ...             ...          ...   ...           ...   \n",
              "28089  G19583   Bandung   Telemarketing  2 - 3 Tahun  54.0     Laki-laki   \n",
              "28090  G18081   Jakarta   Telemarketing  2 - 3 Tahun  58.0     Laki-laki   \n",
              "28092  G18530   Bandung   Telemarketing  2 - 3 Tahun  42.0     Laki-laki   \n",
              "28095  G03782     Jogja   Telemarketing  2 - 3 Tahun  44.0     Laki-laki   \n",
              "28119  G08939      Solo   Telemarketing  2 - 3 Tahun  33.0     Laki-laki   \n",
              "\n",
              "      Status_Perkawinan  Jumlah_Anak            Pendidikan  Produk_Tabungan  \\\n",
              "1         Belum Menikah            0                Doktor                1   \n",
              "2         Belum Menikah            0                Doktor                1   \n",
              "7         Belum Menikah            0                Doktor                1   \n",
              "8         Belum Menikah            0                Doktor                1   \n",
              "9         Belum Menikah            0                Doktor                1   \n",
              "...                 ...          ...                   ...              ...   \n",
              "28089           Menikah            0  Tidak Sekolah Formal                1   \n",
              "28090     Belum Menikah            0  Tidak Sekolah Formal                1   \n",
              "28092             Cerai            3  Tidak Sekolah Formal                1   \n",
              "28095             Cerai            1  Tidak Sekolah Formal                1   \n",
              "28119           Menikah            2  Tidak Sekolah Formal                1   \n",
              "\n",
              "       Produk_Deposito  Produk_Kartu_Kredit  Produk_Kredit_Rumah  \\\n",
              "1                    0                    0                    0   \n",
              "2                    0                    0                    0   \n",
              "7                    0                    0                    0   \n",
              "8                    0                    0                    0   \n",
              "9                    0                    0                    0   \n",
              "...                ...                  ...                  ...   \n",
              "28089                1                    1                    1   \n",
              "28090                1                    1                    1   \n",
              "28092                1                    1                    1   \n",
              "28095                1                    0                    1   \n",
              "28119                1                    1                    1   \n",
              "\n",
              "       Produk_Kredit_Kendaraan  Produk_Kredit_Dana_Tunai  \\\n",
              "1                            0                         0   \n",
              "2                            0                         0   \n",
              "7                            0                         0   \n",
              "8                            0                         0   \n",
              "9                            0                         0   \n",
              "...                        ...                       ...   \n",
              "28089                        0                         1   \n",
              "28090                        1                         0   \n",
              "28092                        0                         1   \n",
              "28095                        1                         1   \n",
              "28119                        1                         1   \n",
              "\n",
              "       Total_Kepemilikan_Produk  Pendapatan_Tahunan  \\\n",
              "1                             1                 198   \n",
              "2                             1                 280   \n",
              "7                             1                 295   \n",
              "8                             1                 443   \n",
              "9                             1                 257   \n",
              "...                         ...                 ...   \n",
              "28089                         5                 489   \n",
              "28090                         5                 658   \n",
              "28092                         5                 585   \n",
              "28095                         5                 279   \n",
              "28119                         6                 366   \n",
              "\n",
              "       Total_Relationship_Balance  \n",
              "1                        10668586  \n",
              "2                       299076075  \n",
              "7                        76653088  \n",
              "8                       247157199  \n",
              "9                        27585562  \n",
              "...                           ...  \n",
              "28089                   321693904  \n",
              "28090                   224477967  \n",
              "28092                   411871605  \n",
              "28095                   161744694  \n",
              "28119                   146178244  \n",
              "\n",
              "[8653 rows x 18 columns]"
            ]
          },
          "execution_count": 44,
          "metadata": {},
          "output_type": "execute_result"
        }
      ],
      "source": [
        "data0"
      ]
    },
    {
      "cell_type": "code",
      "execution_count": 45,
      "metadata": {
        "id": "FL-3syvh8_Wr"
      },
      "outputs": [],
      "source": [
        "data0 = data0.drop(columns=['GCIF','Jalur_Pembukaan']).reset_index(drop=True)"
      ]
    },
    {
      "cell_type": "code",
      "execution_count": 46,
      "metadata": {
        "id": "RNt9vNKODRSs"
      },
      "outputs": [],
      "source": [
        "data0 = data0.reset_index()"
      ]
    },
    {
      "cell_type": "code",
      "execution_count": 48,
      "metadata": {
        "colab": {
          "base_uri": "https://localhost:8080/",
          "height": 617
        },
        "id": "0nTq_7cM9e2n",
        "outputId": "0c597f3c-d4f0-4316-aefb-49a1f69268d4"
      },
      "outputs": [
        {
          "data": {
            "text/html": [
              "<div>\n",
              "<style scoped>\n",
              "    .dataframe tbody tr th:only-of-type {\n",
              "        vertical-align: middle;\n",
              "    }\n",
              "\n",
              "    .dataframe tbody tr th {\n",
              "        vertical-align: top;\n",
              "    }\n",
              "\n",
              "    .dataframe thead th {\n",
              "        text-align: right;\n",
              "    }\n",
              "</style>\n",
              "<table border=\"1\" class=\"dataframe\">\n",
              "  <thead>\n",
              "    <tr style=\"text-align: right;\">\n",
              "      <th></th>\n",
              "      <th>index</th>\n",
              "      <th>Area</th>\n",
              "      <th>Vintage</th>\n",
              "      <th>Usia</th>\n",
              "      <th>Jenis_Kelamin</th>\n",
              "      <th>Status_Perkawinan</th>\n",
              "      <th>Jumlah_Anak</th>\n",
              "      <th>Pendidikan</th>\n",
              "      <th>Produk_Tabungan</th>\n",
              "      <th>Produk_Deposito</th>\n",
              "      <th>Produk_Kartu_Kredit</th>\n",
              "      <th>Produk_Kredit_Rumah</th>\n",
              "      <th>Produk_Kredit_Kendaraan</th>\n",
              "      <th>Produk_Kredit_Dana_Tunai</th>\n",
              "      <th>Total_Kepemilikan_Produk</th>\n",
              "      <th>Pendapatan_Tahunan</th>\n",
              "      <th>Total_Relationship_Balance</th>\n",
              "    </tr>\n",
              "  </thead>\n",
              "  <tbody>\n",
              "    <tr>\n",
              "      <th>0</th>\n",
              "      <td>0</td>\n",
              "      <td>Jakarta</td>\n",
              "      <td>&lt; 1 Tahun</td>\n",
              "      <td>23.0</td>\n",
              "      <td>Laki-laki</td>\n",
              "      <td>Belum Menikah</td>\n",
              "      <td>0</td>\n",
              "      <td>Doktor</td>\n",
              "      <td>1</td>\n",
              "      <td>0</td>\n",
              "      <td>0</td>\n",
              "      <td>0</td>\n",
              "      <td>0</td>\n",
              "      <td>0</td>\n",
              "      <td>1</td>\n",
              "      <td>198</td>\n",
              "      <td>10668586</td>\n",
              "    </tr>\n",
              "    <tr>\n",
              "      <th>1</th>\n",
              "      <td>1</td>\n",
              "      <td>Surabaya</td>\n",
              "      <td>&lt; 1 Tahun</td>\n",
              "      <td>30.0</td>\n",
              "      <td>Laki-laki</td>\n",
              "      <td>Belum Menikah</td>\n",
              "      <td>0</td>\n",
              "      <td>Doktor</td>\n",
              "      <td>1</td>\n",
              "      <td>0</td>\n",
              "      <td>0</td>\n",
              "      <td>0</td>\n",
              "      <td>0</td>\n",
              "      <td>0</td>\n",
              "      <td>1</td>\n",
              "      <td>280</td>\n",
              "      <td>299076075</td>\n",
              "    </tr>\n",
              "    <tr>\n",
              "      <th>2</th>\n",
              "      <td>2</td>\n",
              "      <td>Solo</td>\n",
              "      <td>&lt; 1 Tahun</td>\n",
              "      <td>29.0</td>\n",
              "      <td>Laki-laki</td>\n",
              "      <td>Belum Menikah</td>\n",
              "      <td>0</td>\n",
              "      <td>Doktor</td>\n",
              "      <td>1</td>\n",
              "      <td>0</td>\n",
              "      <td>0</td>\n",
              "      <td>0</td>\n",
              "      <td>0</td>\n",
              "      <td>0</td>\n",
              "      <td>1</td>\n",
              "      <td>295</td>\n",
              "      <td>76653088</td>\n",
              "    </tr>\n",
              "    <tr>\n",
              "      <th>3</th>\n",
              "      <td>3</td>\n",
              "      <td>Jakarta</td>\n",
              "      <td>&lt; 1 Tahun</td>\n",
              "      <td>49.0</td>\n",
              "      <td>Laki-laki</td>\n",
              "      <td>Belum Menikah</td>\n",
              "      <td>0</td>\n",
              "      <td>Doktor</td>\n",
              "      <td>1</td>\n",
              "      <td>0</td>\n",
              "      <td>0</td>\n",
              "      <td>0</td>\n",
              "      <td>0</td>\n",
              "      <td>0</td>\n",
              "      <td>1</td>\n",
              "      <td>443</td>\n",
              "      <td>247157199</td>\n",
              "    </tr>\n",
              "    <tr>\n",
              "      <th>4</th>\n",
              "      <td>4</td>\n",
              "      <td>Jakarta</td>\n",
              "      <td>&lt; 1 Tahun</td>\n",
              "      <td>21.0</td>\n",
              "      <td>Perempuan</td>\n",
              "      <td>Belum Menikah</td>\n",
              "      <td>0</td>\n",
              "      <td>Doktor</td>\n",
              "      <td>1</td>\n",
              "      <td>0</td>\n",
              "      <td>0</td>\n",
              "      <td>0</td>\n",
              "      <td>0</td>\n",
              "      <td>0</td>\n",
              "      <td>1</td>\n",
              "      <td>257</td>\n",
              "      <td>27585562</td>\n",
              "    </tr>\n",
              "    <tr>\n",
              "      <th>...</th>\n",
              "      <td>...</td>\n",
              "      <td>...</td>\n",
              "      <td>...</td>\n",
              "      <td>...</td>\n",
              "      <td>...</td>\n",
              "      <td>...</td>\n",
              "      <td>...</td>\n",
              "      <td>...</td>\n",
              "      <td>...</td>\n",
              "      <td>...</td>\n",
              "      <td>...</td>\n",
              "      <td>...</td>\n",
              "      <td>...</td>\n",
              "      <td>...</td>\n",
              "      <td>...</td>\n",
              "      <td>...</td>\n",
              "      <td>...</td>\n",
              "    </tr>\n",
              "    <tr>\n",
              "      <th>8648</th>\n",
              "      <td>8648</td>\n",
              "      <td>Bandung</td>\n",
              "      <td>2 - 3 Tahun</td>\n",
              "      <td>54.0</td>\n",
              "      <td>Laki-laki</td>\n",
              "      <td>Menikah</td>\n",
              "      <td>0</td>\n",
              "      <td>Tidak Sekolah Formal</td>\n",
              "      <td>1</td>\n",
              "      <td>1</td>\n",
              "      <td>1</td>\n",
              "      <td>1</td>\n",
              "      <td>0</td>\n",
              "      <td>1</td>\n",
              "      <td>5</td>\n",
              "      <td>489</td>\n",
              "      <td>321693904</td>\n",
              "    </tr>\n",
              "    <tr>\n",
              "      <th>8649</th>\n",
              "      <td>8649</td>\n",
              "      <td>Jakarta</td>\n",
              "      <td>2 - 3 Tahun</td>\n",
              "      <td>58.0</td>\n",
              "      <td>Laki-laki</td>\n",
              "      <td>Belum Menikah</td>\n",
              "      <td>0</td>\n",
              "      <td>Tidak Sekolah Formal</td>\n",
              "      <td>1</td>\n",
              "      <td>1</td>\n",
              "      <td>1</td>\n",
              "      <td>1</td>\n",
              "      <td>1</td>\n",
              "      <td>0</td>\n",
              "      <td>5</td>\n",
              "      <td>658</td>\n",
              "      <td>224477967</td>\n",
              "    </tr>\n",
              "    <tr>\n",
              "      <th>8650</th>\n",
              "      <td>8650</td>\n",
              "      <td>Bandung</td>\n",
              "      <td>2 - 3 Tahun</td>\n",
              "      <td>42.0</td>\n",
              "      <td>Laki-laki</td>\n",
              "      <td>Cerai</td>\n",
              "      <td>3</td>\n",
              "      <td>Tidak Sekolah Formal</td>\n",
              "      <td>1</td>\n",
              "      <td>1</td>\n",
              "      <td>1</td>\n",
              "      <td>1</td>\n",
              "      <td>0</td>\n",
              "      <td>1</td>\n",
              "      <td>5</td>\n",
              "      <td>585</td>\n",
              "      <td>411871605</td>\n",
              "    </tr>\n",
              "    <tr>\n",
              "      <th>8651</th>\n",
              "      <td>8651</td>\n",
              "      <td>Jogja</td>\n",
              "      <td>2 - 3 Tahun</td>\n",
              "      <td>44.0</td>\n",
              "      <td>Laki-laki</td>\n",
              "      <td>Cerai</td>\n",
              "      <td>1</td>\n",
              "      <td>Tidak Sekolah Formal</td>\n",
              "      <td>1</td>\n",
              "      <td>1</td>\n",
              "      <td>0</td>\n",
              "      <td>1</td>\n",
              "      <td>1</td>\n",
              "      <td>1</td>\n",
              "      <td>5</td>\n",
              "      <td>279</td>\n",
              "      <td>161744694</td>\n",
              "    </tr>\n",
              "    <tr>\n",
              "      <th>8652</th>\n",
              "      <td>8652</td>\n",
              "      <td>Solo</td>\n",
              "      <td>2 - 3 Tahun</td>\n",
              "      <td>33.0</td>\n",
              "      <td>Laki-laki</td>\n",
              "      <td>Menikah</td>\n",
              "      <td>2</td>\n",
              "      <td>Tidak Sekolah Formal</td>\n",
              "      <td>1</td>\n",
              "      <td>1</td>\n",
              "      <td>1</td>\n",
              "      <td>1</td>\n",
              "      <td>1</td>\n",
              "      <td>1</td>\n",
              "      <td>6</td>\n",
              "      <td>366</td>\n",
              "      <td>146178244</td>\n",
              "    </tr>\n",
              "  </tbody>\n",
              "</table>\n",
              "<p>8653 rows × 17 columns</p>\n",
              "</div>"
            ],
            "text/plain": [
              "      index      Area      Vintage  Usia Jenis_Kelamin Status_Perkawinan  \\\n",
              "0         0   Jakarta    < 1 Tahun  23.0     Laki-laki     Belum Menikah   \n",
              "1         1  Surabaya    < 1 Tahun  30.0     Laki-laki     Belum Menikah   \n",
              "2         2      Solo    < 1 Tahun  29.0     Laki-laki     Belum Menikah   \n",
              "3         3   Jakarta    < 1 Tahun  49.0     Laki-laki     Belum Menikah   \n",
              "4         4   Jakarta    < 1 Tahun  21.0     Perempuan     Belum Menikah   \n",
              "...     ...       ...          ...   ...           ...               ...   \n",
              "8648   8648   Bandung  2 - 3 Tahun  54.0     Laki-laki           Menikah   \n",
              "8649   8649   Jakarta  2 - 3 Tahun  58.0     Laki-laki     Belum Menikah   \n",
              "8650   8650   Bandung  2 - 3 Tahun  42.0     Laki-laki             Cerai   \n",
              "8651   8651     Jogja  2 - 3 Tahun  44.0     Laki-laki             Cerai   \n",
              "8652   8652      Solo  2 - 3 Tahun  33.0     Laki-laki           Menikah   \n",
              "\n",
              "      Jumlah_Anak            Pendidikan  Produk_Tabungan  Produk_Deposito  \\\n",
              "0               0                Doktor                1                0   \n",
              "1               0                Doktor                1                0   \n",
              "2               0                Doktor                1                0   \n",
              "3               0                Doktor                1                0   \n",
              "4               0                Doktor                1                0   \n",
              "...           ...                   ...              ...              ...   \n",
              "8648            0  Tidak Sekolah Formal                1                1   \n",
              "8649            0  Tidak Sekolah Formal                1                1   \n",
              "8650            3  Tidak Sekolah Formal                1                1   \n",
              "8651            1  Tidak Sekolah Formal                1                1   \n",
              "8652            2  Tidak Sekolah Formal                1                1   \n",
              "\n",
              "      Produk_Kartu_Kredit  Produk_Kredit_Rumah  Produk_Kredit_Kendaraan  \\\n",
              "0                       0                    0                        0   \n",
              "1                       0                    0                        0   \n",
              "2                       0                    0                        0   \n",
              "3                       0                    0                        0   \n",
              "4                       0                    0                        0   \n",
              "...                   ...                  ...                      ...   \n",
              "8648                    1                    1                        0   \n",
              "8649                    1                    1                        1   \n",
              "8650                    1                    1                        0   \n",
              "8651                    0                    1                        1   \n",
              "8652                    1                    1                        1   \n",
              "\n",
              "      Produk_Kredit_Dana_Tunai  Total_Kepemilikan_Produk  Pendapatan_Tahunan  \\\n",
              "0                            0                         1                 198   \n",
              "1                            0                         1                 280   \n",
              "2                            0                         1                 295   \n",
              "3                            0                         1                 443   \n",
              "4                            0                         1                 257   \n",
              "...                        ...                       ...                 ...   \n",
              "8648                         1                         5                 489   \n",
              "8649                         0                         5                 658   \n",
              "8650                         1                         5                 585   \n",
              "8651                         1                         5                 279   \n",
              "8652                         1                         6                 366   \n",
              "\n",
              "      Total_Relationship_Balance  \n",
              "0                       10668586  \n",
              "1                      299076075  \n",
              "2                       76653088  \n",
              "3                      247157199  \n",
              "4                       27585562  \n",
              "...                          ...  \n",
              "8648                   321693904  \n",
              "8649                   224477967  \n",
              "8650                   411871605  \n",
              "8651                   161744694  \n",
              "8652                   146178244  \n",
              "\n",
              "[8653 rows x 17 columns]"
            ]
          },
          "execution_count": 48,
          "metadata": {},
          "output_type": "execute_result"
        }
      ],
      "source": [
        "data0"
      ]
    },
    {
      "cell_type": "markdown",
      "metadata": {
        "id": "uzvGT9Jw6l-H"
      },
      "source": [
        "## Pembagian Dataset Experiment\n",
        "1. Experiment 0 --> Semua Variabel Digunakan\n",
        "2. Experiment 1 --> Menggunakan Demographics\n",
        "3. Experiment 2 --> Menggunakan Financial Related Variable"
      ]
    },
    {
      "cell_type": "code",
      "execution_count": 61,
      "metadata": {
        "id": "n5lqA0gF5MZL"
      },
      "outputs": [],
      "source": [
        "data1 = data0.iloc[:,1:8]"
      ]
    },
    {
      "cell_type": "code",
      "execution_count": 62,
      "metadata": {
        "colab": {
          "base_uri": "https://localhost:8080/",
          "height": 423
        },
        "id": "Gp7EqwW77oMi",
        "outputId": "ec894028-1e05-413b-b7c3-baf73c8695f8"
      },
      "outputs": [
        {
          "data": {
            "text/html": [
              "<div>\n",
              "<style scoped>\n",
              "    .dataframe tbody tr th:only-of-type {\n",
              "        vertical-align: middle;\n",
              "    }\n",
              "\n",
              "    .dataframe tbody tr th {\n",
              "        vertical-align: top;\n",
              "    }\n",
              "\n",
              "    .dataframe thead th {\n",
              "        text-align: right;\n",
              "    }\n",
              "</style>\n",
              "<table border=\"1\" class=\"dataframe\">\n",
              "  <thead>\n",
              "    <tr style=\"text-align: right;\">\n",
              "      <th></th>\n",
              "      <th>Area</th>\n",
              "      <th>Vintage</th>\n",
              "      <th>Usia</th>\n",
              "      <th>Jenis_Kelamin</th>\n",
              "      <th>Status_Perkawinan</th>\n",
              "      <th>Jumlah_Anak</th>\n",
              "      <th>Pendidikan</th>\n",
              "    </tr>\n",
              "  </thead>\n",
              "  <tbody>\n",
              "    <tr>\n",
              "      <th>0</th>\n",
              "      <td>Jakarta</td>\n",
              "      <td>&lt; 1 Tahun</td>\n",
              "      <td>23.0</td>\n",
              "      <td>Laki-laki</td>\n",
              "      <td>Belum Menikah</td>\n",
              "      <td>0</td>\n",
              "      <td>Doktor</td>\n",
              "    </tr>\n",
              "    <tr>\n",
              "      <th>1</th>\n",
              "      <td>Surabaya</td>\n",
              "      <td>&lt; 1 Tahun</td>\n",
              "      <td>30.0</td>\n",
              "      <td>Laki-laki</td>\n",
              "      <td>Belum Menikah</td>\n",
              "      <td>0</td>\n",
              "      <td>Doktor</td>\n",
              "    </tr>\n",
              "    <tr>\n",
              "      <th>2</th>\n",
              "      <td>Solo</td>\n",
              "      <td>&lt; 1 Tahun</td>\n",
              "      <td>29.0</td>\n",
              "      <td>Laki-laki</td>\n",
              "      <td>Belum Menikah</td>\n",
              "      <td>0</td>\n",
              "      <td>Doktor</td>\n",
              "    </tr>\n",
              "    <tr>\n",
              "      <th>3</th>\n",
              "      <td>Jakarta</td>\n",
              "      <td>&lt; 1 Tahun</td>\n",
              "      <td>49.0</td>\n",
              "      <td>Laki-laki</td>\n",
              "      <td>Belum Menikah</td>\n",
              "      <td>0</td>\n",
              "      <td>Doktor</td>\n",
              "    </tr>\n",
              "    <tr>\n",
              "      <th>4</th>\n",
              "      <td>Jakarta</td>\n",
              "      <td>&lt; 1 Tahun</td>\n",
              "      <td>21.0</td>\n",
              "      <td>Perempuan</td>\n",
              "      <td>Belum Menikah</td>\n",
              "      <td>0</td>\n",
              "      <td>Doktor</td>\n",
              "    </tr>\n",
              "    <tr>\n",
              "      <th>...</th>\n",
              "      <td>...</td>\n",
              "      <td>...</td>\n",
              "      <td>...</td>\n",
              "      <td>...</td>\n",
              "      <td>...</td>\n",
              "      <td>...</td>\n",
              "      <td>...</td>\n",
              "    </tr>\n",
              "    <tr>\n",
              "      <th>8648</th>\n",
              "      <td>Bandung</td>\n",
              "      <td>2 - 3 Tahun</td>\n",
              "      <td>54.0</td>\n",
              "      <td>Laki-laki</td>\n",
              "      <td>Menikah</td>\n",
              "      <td>0</td>\n",
              "      <td>Tidak Sekolah Formal</td>\n",
              "    </tr>\n",
              "    <tr>\n",
              "      <th>8649</th>\n",
              "      <td>Jakarta</td>\n",
              "      <td>2 - 3 Tahun</td>\n",
              "      <td>58.0</td>\n",
              "      <td>Laki-laki</td>\n",
              "      <td>Belum Menikah</td>\n",
              "      <td>0</td>\n",
              "      <td>Tidak Sekolah Formal</td>\n",
              "    </tr>\n",
              "    <tr>\n",
              "      <th>8650</th>\n",
              "      <td>Bandung</td>\n",
              "      <td>2 - 3 Tahun</td>\n",
              "      <td>42.0</td>\n",
              "      <td>Laki-laki</td>\n",
              "      <td>Cerai</td>\n",
              "      <td>3</td>\n",
              "      <td>Tidak Sekolah Formal</td>\n",
              "    </tr>\n",
              "    <tr>\n",
              "      <th>8651</th>\n",
              "      <td>Jogja</td>\n",
              "      <td>2 - 3 Tahun</td>\n",
              "      <td>44.0</td>\n",
              "      <td>Laki-laki</td>\n",
              "      <td>Cerai</td>\n",
              "      <td>1</td>\n",
              "      <td>Tidak Sekolah Formal</td>\n",
              "    </tr>\n",
              "    <tr>\n",
              "      <th>8652</th>\n",
              "      <td>Solo</td>\n",
              "      <td>2 - 3 Tahun</td>\n",
              "      <td>33.0</td>\n",
              "      <td>Laki-laki</td>\n",
              "      <td>Menikah</td>\n",
              "      <td>2</td>\n",
              "      <td>Tidak Sekolah Formal</td>\n",
              "    </tr>\n",
              "  </tbody>\n",
              "</table>\n",
              "<p>8653 rows × 7 columns</p>\n",
              "</div>"
            ],
            "text/plain": [
              "          Area      Vintage  Usia Jenis_Kelamin Status_Perkawinan  \\\n",
              "0      Jakarta    < 1 Tahun  23.0     Laki-laki     Belum Menikah   \n",
              "1     Surabaya    < 1 Tahun  30.0     Laki-laki     Belum Menikah   \n",
              "2         Solo    < 1 Tahun  29.0     Laki-laki     Belum Menikah   \n",
              "3      Jakarta    < 1 Tahun  49.0     Laki-laki     Belum Menikah   \n",
              "4      Jakarta    < 1 Tahun  21.0     Perempuan     Belum Menikah   \n",
              "...        ...          ...   ...           ...               ...   \n",
              "8648   Bandung  2 - 3 Tahun  54.0     Laki-laki           Menikah   \n",
              "8649   Jakarta  2 - 3 Tahun  58.0     Laki-laki     Belum Menikah   \n",
              "8650   Bandung  2 - 3 Tahun  42.0     Laki-laki             Cerai   \n",
              "8651     Jogja  2 - 3 Tahun  44.0     Laki-laki             Cerai   \n",
              "8652      Solo  2 - 3 Tahun  33.0     Laki-laki           Menikah   \n",
              "\n",
              "      Jumlah_Anak            Pendidikan  \n",
              "0               0                Doktor  \n",
              "1               0                Doktor  \n",
              "2               0                Doktor  \n",
              "3               0                Doktor  \n",
              "4               0                Doktor  \n",
              "...           ...                   ...  \n",
              "8648            0  Tidak Sekolah Formal  \n",
              "8649            0  Tidak Sekolah Formal  \n",
              "8650            3  Tidak Sekolah Formal  \n",
              "8651            1  Tidak Sekolah Formal  \n",
              "8652            2  Tidak Sekolah Formal  \n",
              "\n",
              "[8653 rows x 7 columns]"
            ]
          },
          "execution_count": 62,
          "metadata": {},
          "output_type": "execute_result"
        }
      ],
      "source": [
        "data1"
      ]
    },
    {
      "cell_type": "code",
      "execution_count": 51,
      "metadata": {
        "id": "VIX87Jsk7tJL"
      },
      "outputs": [],
      "source": [
        "data2 = data0.iloc[:,8:17]"
      ]
    },
    {
      "cell_type": "code",
      "execution_count": 52,
      "metadata": {
        "colab": {
          "base_uri": "https://localhost:8080/",
          "height": 443
        },
        "id": "RmvYl9r58HPi",
        "outputId": "bbf6007d-f0f9-4b25-a2ab-5a90f7600308"
      },
      "outputs": [
        {
          "data": {
            "text/html": [
              "<div>\n",
              "<style scoped>\n",
              "    .dataframe tbody tr th:only-of-type {\n",
              "        vertical-align: middle;\n",
              "    }\n",
              "\n",
              "    .dataframe tbody tr th {\n",
              "        vertical-align: top;\n",
              "    }\n",
              "\n",
              "    .dataframe thead th {\n",
              "        text-align: right;\n",
              "    }\n",
              "</style>\n",
              "<table border=\"1\" class=\"dataframe\">\n",
              "  <thead>\n",
              "    <tr style=\"text-align: right;\">\n",
              "      <th></th>\n",
              "      <th>Produk_Tabungan</th>\n",
              "      <th>Produk_Deposito</th>\n",
              "      <th>Produk_Kartu_Kredit</th>\n",
              "      <th>Produk_Kredit_Rumah</th>\n",
              "      <th>Produk_Kredit_Kendaraan</th>\n",
              "      <th>Produk_Kredit_Dana_Tunai</th>\n",
              "      <th>Total_Kepemilikan_Produk</th>\n",
              "      <th>Pendapatan_Tahunan</th>\n",
              "      <th>Total_Relationship_Balance</th>\n",
              "    </tr>\n",
              "  </thead>\n",
              "  <tbody>\n",
              "    <tr>\n",
              "      <th>0</th>\n",
              "      <td>1</td>\n",
              "      <td>0</td>\n",
              "      <td>0</td>\n",
              "      <td>0</td>\n",
              "      <td>0</td>\n",
              "      <td>0</td>\n",
              "      <td>1</td>\n",
              "      <td>198</td>\n",
              "      <td>10668586</td>\n",
              "    </tr>\n",
              "    <tr>\n",
              "      <th>1</th>\n",
              "      <td>1</td>\n",
              "      <td>0</td>\n",
              "      <td>0</td>\n",
              "      <td>0</td>\n",
              "      <td>0</td>\n",
              "      <td>0</td>\n",
              "      <td>1</td>\n",
              "      <td>280</td>\n",
              "      <td>299076075</td>\n",
              "    </tr>\n",
              "    <tr>\n",
              "      <th>2</th>\n",
              "      <td>1</td>\n",
              "      <td>0</td>\n",
              "      <td>0</td>\n",
              "      <td>0</td>\n",
              "      <td>0</td>\n",
              "      <td>0</td>\n",
              "      <td>1</td>\n",
              "      <td>295</td>\n",
              "      <td>76653088</td>\n",
              "    </tr>\n",
              "    <tr>\n",
              "      <th>3</th>\n",
              "      <td>1</td>\n",
              "      <td>0</td>\n",
              "      <td>0</td>\n",
              "      <td>0</td>\n",
              "      <td>0</td>\n",
              "      <td>0</td>\n",
              "      <td>1</td>\n",
              "      <td>443</td>\n",
              "      <td>247157199</td>\n",
              "    </tr>\n",
              "    <tr>\n",
              "      <th>4</th>\n",
              "      <td>1</td>\n",
              "      <td>0</td>\n",
              "      <td>0</td>\n",
              "      <td>0</td>\n",
              "      <td>0</td>\n",
              "      <td>0</td>\n",
              "      <td>1</td>\n",
              "      <td>257</td>\n",
              "      <td>27585562</td>\n",
              "    </tr>\n",
              "    <tr>\n",
              "      <th>...</th>\n",
              "      <td>...</td>\n",
              "      <td>...</td>\n",
              "      <td>...</td>\n",
              "      <td>...</td>\n",
              "      <td>...</td>\n",
              "      <td>...</td>\n",
              "      <td>...</td>\n",
              "      <td>...</td>\n",
              "      <td>...</td>\n",
              "    </tr>\n",
              "    <tr>\n",
              "      <th>8648</th>\n",
              "      <td>1</td>\n",
              "      <td>1</td>\n",
              "      <td>1</td>\n",
              "      <td>1</td>\n",
              "      <td>0</td>\n",
              "      <td>1</td>\n",
              "      <td>5</td>\n",
              "      <td>489</td>\n",
              "      <td>321693904</td>\n",
              "    </tr>\n",
              "    <tr>\n",
              "      <th>8649</th>\n",
              "      <td>1</td>\n",
              "      <td>1</td>\n",
              "      <td>1</td>\n",
              "      <td>1</td>\n",
              "      <td>1</td>\n",
              "      <td>0</td>\n",
              "      <td>5</td>\n",
              "      <td>658</td>\n",
              "      <td>224477967</td>\n",
              "    </tr>\n",
              "    <tr>\n",
              "      <th>8650</th>\n",
              "      <td>1</td>\n",
              "      <td>1</td>\n",
              "      <td>1</td>\n",
              "      <td>1</td>\n",
              "      <td>0</td>\n",
              "      <td>1</td>\n",
              "      <td>5</td>\n",
              "      <td>585</td>\n",
              "      <td>411871605</td>\n",
              "    </tr>\n",
              "    <tr>\n",
              "      <th>8651</th>\n",
              "      <td>1</td>\n",
              "      <td>1</td>\n",
              "      <td>0</td>\n",
              "      <td>1</td>\n",
              "      <td>1</td>\n",
              "      <td>1</td>\n",
              "      <td>5</td>\n",
              "      <td>279</td>\n",
              "      <td>161744694</td>\n",
              "    </tr>\n",
              "    <tr>\n",
              "      <th>8652</th>\n",
              "      <td>1</td>\n",
              "      <td>1</td>\n",
              "      <td>1</td>\n",
              "      <td>1</td>\n",
              "      <td>1</td>\n",
              "      <td>1</td>\n",
              "      <td>6</td>\n",
              "      <td>366</td>\n",
              "      <td>146178244</td>\n",
              "    </tr>\n",
              "  </tbody>\n",
              "</table>\n",
              "<p>8653 rows × 9 columns</p>\n",
              "</div>"
            ],
            "text/plain": [
              "      Produk_Tabungan  Produk_Deposito  Produk_Kartu_Kredit  \\\n",
              "0                   1                0                    0   \n",
              "1                   1                0                    0   \n",
              "2                   1                0                    0   \n",
              "3                   1                0                    0   \n",
              "4                   1                0                    0   \n",
              "...               ...              ...                  ...   \n",
              "8648                1                1                    1   \n",
              "8649                1                1                    1   \n",
              "8650                1                1                    1   \n",
              "8651                1                1                    0   \n",
              "8652                1                1                    1   \n",
              "\n",
              "      Produk_Kredit_Rumah  Produk_Kredit_Kendaraan  Produk_Kredit_Dana_Tunai  \\\n",
              "0                       0                        0                         0   \n",
              "1                       0                        0                         0   \n",
              "2                       0                        0                         0   \n",
              "3                       0                        0                         0   \n",
              "4                       0                        0                         0   \n",
              "...                   ...                      ...                       ...   \n",
              "8648                    1                        0                         1   \n",
              "8649                    1                        1                         0   \n",
              "8650                    1                        0                         1   \n",
              "8651                    1                        1                         1   \n",
              "8652                    1                        1                         1   \n",
              "\n",
              "      Total_Kepemilikan_Produk  Pendapatan_Tahunan  Total_Relationship_Balance  \n",
              "0                            1                 198                    10668586  \n",
              "1                            1                 280                   299076075  \n",
              "2                            1                 295                    76653088  \n",
              "3                            1                 443                   247157199  \n",
              "4                            1                 257                    27585562  \n",
              "...                        ...                 ...                         ...  \n",
              "8648                         5                 489                   321693904  \n",
              "8649                         5                 658                   224477967  \n",
              "8650                         5                 585                   411871605  \n",
              "8651                         5                 279                   161744694  \n",
              "8652                         6                 366                   146178244  \n",
              "\n",
              "[8653 rows x 9 columns]"
            ]
          },
          "execution_count": 52,
          "metadata": {},
          "output_type": "execute_result"
        }
      ],
      "source": [
        "data2"
      ]
    },
    {
      "cell_type": "markdown",
      "metadata": {
        "id": "MiP2ItyM5MZM"
      },
      "source": [
        "## Melakukan Encoding untuk Data Category"
      ]
    },
    {
      "cell_type": "code",
      "execution_count": 63,
      "metadata": {
        "id": "riK0Kx1W5MZM"
      },
      "outputs": [],
      "source": [
        "data1 = pd.get_dummies(data1, columns=['Area','Jenis_Kelamin', 'Status_Perkawinan', 'Pendidikan','Vintage'])"
      ]
    },
    {
      "cell_type": "code",
      "execution_count": 30,
      "metadata": {
        "colab": {
          "base_uri": "https://localhost:8080/",
          "height": 461
        },
        "id": "Zj5JwOmO_MfH",
        "outputId": "88a71dab-79ad-4e85-c0f2-e38c9a990054"
      },
      "outputs": [
        {
          "data": {
            "text/html": [
              "\n",
              "  <div id=\"df-a47295ac-6b44-4adb-bfe0-f7cc11d5bb88\" class=\"colab-df-container\">\n",
              "    <div>\n",
              "<style scoped>\n",
              "    .dataframe tbody tr th:only-of-type {\n",
              "        vertical-align: middle;\n",
              "    }\n",
              "\n",
              "    .dataframe tbody tr th {\n",
              "        vertical-align: top;\n",
              "    }\n",
              "\n",
              "    .dataframe thead th {\n",
              "        text-align: right;\n",
              "    }\n",
              "</style>\n",
              "<table border=\"1\" class=\"dataframe\">\n",
              "  <thead>\n",
              "    <tr style=\"text-align: right;\">\n",
              "      <th></th>\n",
              "      <th>Usia</th>\n",
              "      <th>Jumlah_Anak</th>\n",
              "      <th>Area_Bandung</th>\n",
              "      <th>Area_Bogor</th>\n",
              "      <th>Area_Jakarta</th>\n",
              "      <th>Area_Jogja</th>\n",
              "      <th>Area_Solo</th>\n",
              "      <th>Area_Surabaya</th>\n",
              "      <th>Jenis_Kelamin_Laki-laki</th>\n",
              "      <th>Jenis_Kelamin_Perempuan</th>\n",
              "      <th>Status_Perkawinan_Belum Menikah</th>\n",
              "      <th>Status_Perkawinan_Cerai</th>\n",
              "      <th>Status_Perkawinan_Menikah</th>\n",
              "      <th>Pendidikan_Doktor</th>\n",
              "      <th>Pendidikan_Magister</th>\n",
              "      <th>Pendidikan_SD</th>\n",
              "      <th>Pendidikan_SDTidak Sekolah Formal</th>\n",
              "      <th>Pendidikan_SMA</th>\n",
              "      <th>Pendidikan_SMP</th>\n",
              "      <th>Pendidikan_Sarjana</th>\n",
              "      <th>Pendidikan_Tidak Sekolah Formal</th>\n",
              "      <th>Vintage_2 - 3 Tahun</th>\n",
              "      <th>Vintage_&lt; 1 Tahun</th>\n",
              "      <th>Vintage_&gt; 4 Tahun</th>\n",
              "    </tr>\n",
              "  </thead>\n",
              "  <tbody>\n",
              "    <tr>\n",
              "      <th>0</th>\n",
              "      <td>65.0</td>\n",
              "      <td>3</td>\n",
              "      <td>0</td>\n",
              "      <td>0</td>\n",
              "      <td>1</td>\n",
              "      <td>0</td>\n",
              "      <td>0</td>\n",
              "      <td>0</td>\n",
              "      <td>0</td>\n",
              "      <td>1</td>\n",
              "      <td>0</td>\n",
              "      <td>0</td>\n",
              "      <td>1</td>\n",
              "      <td>0</td>\n",
              "      <td>1</td>\n",
              "      <td>0</td>\n",
              "      <td>0</td>\n",
              "      <td>0</td>\n",
              "      <td>0</td>\n",
              "      <td>0</td>\n",
              "      <td>0</td>\n",
              "      <td>0</td>\n",
              "      <td>1</td>\n",
              "      <td>0</td>\n",
              "    </tr>\n",
              "    <tr>\n",
              "      <th>1</th>\n",
              "      <td>32.0</td>\n",
              "      <td>0</td>\n",
              "      <td>1</td>\n",
              "      <td>0</td>\n",
              "      <td>0</td>\n",
              "      <td>0</td>\n",
              "      <td>0</td>\n",
              "      <td>0</td>\n",
              "      <td>1</td>\n",
              "      <td>0</td>\n",
              "      <td>1</td>\n",
              "      <td>0</td>\n",
              "      <td>0</td>\n",
              "      <td>0</td>\n",
              "      <td>0</td>\n",
              "      <td>0</td>\n",
              "      <td>0</td>\n",
              "      <td>1</td>\n",
              "      <td>0</td>\n",
              "      <td>0</td>\n",
              "      <td>0</td>\n",
              "      <td>0</td>\n",
              "      <td>1</td>\n",
              "      <td>0</td>\n",
              "    </tr>\n",
              "    <tr>\n",
              "      <th>2</th>\n",
              "      <td>26.0</td>\n",
              "      <td>0</td>\n",
              "      <td>0</td>\n",
              "      <td>0</td>\n",
              "      <td>1</td>\n",
              "      <td>0</td>\n",
              "      <td>0</td>\n",
              "      <td>0</td>\n",
              "      <td>1</td>\n",
              "      <td>0</td>\n",
              "      <td>1</td>\n",
              "      <td>0</td>\n",
              "      <td>0</td>\n",
              "      <td>0</td>\n",
              "      <td>1</td>\n",
              "      <td>0</td>\n",
              "      <td>0</td>\n",
              "      <td>0</td>\n",
              "      <td>0</td>\n",
              "      <td>0</td>\n",
              "      <td>0</td>\n",
              "      <td>0</td>\n",
              "      <td>1</td>\n",
              "      <td>0</td>\n",
              "    </tr>\n",
              "    <tr>\n",
              "      <th>3</th>\n",
              "      <td>23.0</td>\n",
              "      <td>0</td>\n",
              "      <td>0</td>\n",
              "      <td>0</td>\n",
              "      <td>1</td>\n",
              "      <td>0</td>\n",
              "      <td>0</td>\n",
              "      <td>0</td>\n",
              "      <td>1</td>\n",
              "      <td>0</td>\n",
              "      <td>1</td>\n",
              "      <td>0</td>\n",
              "      <td>0</td>\n",
              "      <td>1</td>\n",
              "      <td>0</td>\n",
              "      <td>0</td>\n",
              "      <td>0</td>\n",
              "      <td>0</td>\n",
              "      <td>0</td>\n",
              "      <td>0</td>\n",
              "      <td>0</td>\n",
              "      <td>0</td>\n",
              "      <td>1</td>\n",
              "      <td>0</td>\n",
              "    </tr>\n",
              "    <tr>\n",
              "      <th>4</th>\n",
              "      <td>30.0</td>\n",
              "      <td>0</td>\n",
              "      <td>0</td>\n",
              "      <td>0</td>\n",
              "      <td>0</td>\n",
              "      <td>0</td>\n",
              "      <td>0</td>\n",
              "      <td>1</td>\n",
              "      <td>1</td>\n",
              "      <td>0</td>\n",
              "      <td>1</td>\n",
              "      <td>0</td>\n",
              "      <td>0</td>\n",
              "      <td>1</td>\n",
              "      <td>0</td>\n",
              "      <td>0</td>\n",
              "      <td>0</td>\n",
              "      <td>0</td>\n",
              "      <td>0</td>\n",
              "      <td>0</td>\n",
              "      <td>0</td>\n",
              "      <td>0</td>\n",
              "      <td>1</td>\n",
              "      <td>0</td>\n",
              "    </tr>\n",
              "    <tr>\n",
              "      <th>...</th>\n",
              "      <td>...</td>\n",
              "      <td>...</td>\n",
              "      <td>...</td>\n",
              "      <td>...</td>\n",
              "      <td>...</td>\n",
              "      <td>...</td>\n",
              "      <td>...</td>\n",
              "      <td>...</td>\n",
              "      <td>...</td>\n",
              "      <td>...</td>\n",
              "      <td>...</td>\n",
              "      <td>...</td>\n",
              "      <td>...</td>\n",
              "      <td>...</td>\n",
              "      <td>...</td>\n",
              "      <td>...</td>\n",
              "      <td>...</td>\n",
              "      <td>...</td>\n",
              "      <td>...</td>\n",
              "      <td>...</td>\n",
              "      <td>...</td>\n",
              "      <td>...</td>\n",
              "      <td>...</td>\n",
              "      <td>...</td>\n",
              "    </tr>\n",
              "    <tr>\n",
              "      <th>8648</th>\n",
              "      <td>54.0</td>\n",
              "      <td>0</td>\n",
              "      <td>0</td>\n",
              "      <td>0</td>\n",
              "      <td>0</td>\n",
              "      <td>0</td>\n",
              "      <td>0</td>\n",
              "      <td>1</td>\n",
              "      <td>0</td>\n",
              "      <td>1</td>\n",
              "      <td>0</td>\n",
              "      <td>0</td>\n",
              "      <td>1</td>\n",
              "      <td>0</td>\n",
              "      <td>1</td>\n",
              "      <td>0</td>\n",
              "      <td>0</td>\n",
              "      <td>0</td>\n",
              "      <td>0</td>\n",
              "      <td>0</td>\n",
              "      <td>0</td>\n",
              "      <td>1</td>\n",
              "      <td>0</td>\n",
              "      <td>0</td>\n",
              "    </tr>\n",
              "    <tr>\n",
              "      <th>8649</th>\n",
              "      <td>56.0</td>\n",
              "      <td>0</td>\n",
              "      <td>0</td>\n",
              "      <td>0</td>\n",
              "      <td>1</td>\n",
              "      <td>0</td>\n",
              "      <td>0</td>\n",
              "      <td>0</td>\n",
              "      <td>1</td>\n",
              "      <td>0</td>\n",
              "      <td>1</td>\n",
              "      <td>0</td>\n",
              "      <td>0</td>\n",
              "      <td>0</td>\n",
              "      <td>0</td>\n",
              "      <td>0</td>\n",
              "      <td>0</td>\n",
              "      <td>0</td>\n",
              "      <td>0</td>\n",
              "      <td>1</td>\n",
              "      <td>0</td>\n",
              "      <td>1</td>\n",
              "      <td>0</td>\n",
              "      <td>0</td>\n",
              "    </tr>\n",
              "    <tr>\n",
              "      <th>8650</th>\n",
              "      <td>53.0</td>\n",
              "      <td>4</td>\n",
              "      <td>0</td>\n",
              "      <td>0</td>\n",
              "      <td>1</td>\n",
              "      <td>0</td>\n",
              "      <td>0</td>\n",
              "      <td>0</td>\n",
              "      <td>1</td>\n",
              "      <td>0</td>\n",
              "      <td>0</td>\n",
              "      <td>0</td>\n",
              "      <td>1</td>\n",
              "      <td>0</td>\n",
              "      <td>1</td>\n",
              "      <td>0</td>\n",
              "      <td>0</td>\n",
              "      <td>0</td>\n",
              "      <td>0</td>\n",
              "      <td>0</td>\n",
              "      <td>0</td>\n",
              "      <td>1</td>\n",
              "      <td>0</td>\n",
              "      <td>0</td>\n",
              "    </tr>\n",
              "    <tr>\n",
              "      <th>8651</th>\n",
              "      <td>43.0</td>\n",
              "      <td>4</td>\n",
              "      <td>0</td>\n",
              "      <td>0</td>\n",
              "      <td>0</td>\n",
              "      <td>0</td>\n",
              "      <td>0</td>\n",
              "      <td>1</td>\n",
              "      <td>1</td>\n",
              "      <td>0</td>\n",
              "      <td>0</td>\n",
              "      <td>1</td>\n",
              "      <td>0</td>\n",
              "      <td>0</td>\n",
              "      <td>0</td>\n",
              "      <td>0</td>\n",
              "      <td>0</td>\n",
              "      <td>1</td>\n",
              "      <td>0</td>\n",
              "      <td>0</td>\n",
              "      <td>0</td>\n",
              "      <td>1</td>\n",
              "      <td>0</td>\n",
              "      <td>0</td>\n",
              "    </tr>\n",
              "    <tr>\n",
              "      <th>8652</th>\n",
              "      <td>46.0</td>\n",
              "      <td>4</td>\n",
              "      <td>0</td>\n",
              "      <td>0</td>\n",
              "      <td>0</td>\n",
              "      <td>0</td>\n",
              "      <td>0</td>\n",
              "      <td>1</td>\n",
              "      <td>1</td>\n",
              "      <td>0</td>\n",
              "      <td>0</td>\n",
              "      <td>1</td>\n",
              "      <td>0</td>\n",
              "      <td>0</td>\n",
              "      <td>1</td>\n",
              "      <td>0</td>\n",
              "      <td>0</td>\n",
              "      <td>0</td>\n",
              "      <td>0</td>\n",
              "      <td>0</td>\n",
              "      <td>0</td>\n",
              "      <td>1</td>\n",
              "      <td>0</td>\n",
              "      <td>0</td>\n",
              "    </tr>\n",
              "  </tbody>\n",
              "</table>\n",
              "<p>8653 rows × 24 columns</p>\n",
              "</div>\n",
              "    <div class=\"colab-df-buttons\">\n",
              "\n",
              "  <div class=\"colab-df-container\">\n",
              "    <button class=\"colab-df-convert\" onclick=\"convertToInteractive('df-a47295ac-6b44-4adb-bfe0-f7cc11d5bb88')\"\n",
              "            title=\"Convert this dataframe to an interactive table.\"\n",
              "            style=\"display:none;\">\n",
              "\n",
              "  <svg xmlns=\"http://www.w3.org/2000/svg\" height=\"24px\" viewBox=\"0 -960 960 960\">\n",
              "    <path d=\"M120-120v-720h720v720H120Zm60-500h600v-160H180v160Zm220 220h160v-160H400v160Zm0 220h160v-160H400v160ZM180-400h160v-160H180v160Zm440 0h160v-160H620v160ZM180-180h160v-160H180v160Zm440 0h160v-160H620v160Z\"/>\n",
              "  </svg>\n",
              "    </button>\n",
              "\n",
              "  <style>\n",
              "    .colab-df-container {\n",
              "      display:flex;\n",
              "      gap: 12px;\n",
              "    }\n",
              "\n",
              "    .colab-df-convert {\n",
              "      background-color: #E8F0FE;\n",
              "      border: none;\n",
              "      border-radius: 50%;\n",
              "      cursor: pointer;\n",
              "      display: none;\n",
              "      fill: #1967D2;\n",
              "      height: 32px;\n",
              "      padding: 0 0 0 0;\n",
              "      width: 32px;\n",
              "    }\n",
              "\n",
              "    .colab-df-convert:hover {\n",
              "      background-color: #E2EBFA;\n",
              "      box-shadow: 0px 1px 2px rgba(60, 64, 67, 0.3), 0px 1px 3px 1px rgba(60, 64, 67, 0.15);\n",
              "      fill: #174EA6;\n",
              "    }\n",
              "\n",
              "    .colab-df-buttons div {\n",
              "      margin-bottom: 4px;\n",
              "    }\n",
              "\n",
              "    [theme=dark] .colab-df-convert {\n",
              "      background-color: #3B4455;\n",
              "      fill: #D2E3FC;\n",
              "    }\n",
              "\n",
              "    [theme=dark] .colab-df-convert:hover {\n",
              "      background-color: #434B5C;\n",
              "      box-shadow: 0px 1px 3px 1px rgba(0, 0, 0, 0.15);\n",
              "      filter: drop-shadow(0px 1px 2px rgba(0, 0, 0, 0.3));\n",
              "      fill: #FFFFFF;\n",
              "    }\n",
              "  </style>\n",
              "\n",
              "    <script>\n",
              "      const buttonEl =\n",
              "        document.querySelector('#df-a47295ac-6b44-4adb-bfe0-f7cc11d5bb88 button.colab-df-convert');\n",
              "      buttonEl.style.display =\n",
              "        google.colab.kernel.accessAllowed ? 'block' : 'none';\n",
              "\n",
              "      async function convertToInteractive(key) {\n",
              "        const element = document.querySelector('#df-a47295ac-6b44-4adb-bfe0-f7cc11d5bb88');\n",
              "        const dataTable =\n",
              "          await google.colab.kernel.invokeFunction('convertToInteractive',\n",
              "                                                    [key], {});\n",
              "        if (!dataTable) return;\n",
              "\n",
              "        const docLinkHtml = 'Like what you see? Visit the ' +\n",
              "          '<a target=\"_blank\" href=https://colab.research.google.com/notebooks/data_table.ipynb>data table notebook</a>'\n",
              "          + ' to learn more about interactive tables.';\n",
              "        element.innerHTML = '';\n",
              "        dataTable['output_type'] = 'display_data';\n",
              "        await google.colab.output.renderOutput(dataTable, element);\n",
              "        const docLink = document.createElement('div');\n",
              "        docLink.innerHTML = docLinkHtml;\n",
              "        element.appendChild(docLink);\n",
              "      }\n",
              "    </script>\n",
              "  </div>\n",
              "\n",
              "\n",
              "<div id=\"df-66c2d70f-356d-4585-b191-3e28352ebb7f\">\n",
              "  <button class=\"colab-df-quickchart\" onclick=\"quickchart('df-66c2d70f-356d-4585-b191-3e28352ebb7f')\"\n",
              "            title=\"Suggest charts.\"\n",
              "            style=\"display:none;\">\n",
              "\n",
              "<svg xmlns=\"http://www.w3.org/2000/svg\" height=\"24px\"viewBox=\"0 0 24 24\"\n",
              "     width=\"24px\">\n",
              "    <g>\n",
              "        <path d=\"M19 3H5c-1.1 0-2 .9-2 2v14c0 1.1.9 2 2 2h14c1.1 0 2-.9 2-2V5c0-1.1-.9-2-2-2zM9 17H7v-7h2v7zm4 0h-2V7h2v10zm4 0h-2v-4h2v4z\"/>\n",
              "    </g>\n",
              "</svg>\n",
              "  </button>\n",
              "\n",
              "<style>\n",
              "  .colab-df-quickchart {\n",
              "      --bg-color: #E8F0FE;\n",
              "      --fill-color: #1967D2;\n",
              "      --hover-bg-color: #E2EBFA;\n",
              "      --hover-fill-color: #174EA6;\n",
              "      --disabled-fill-color: #AAA;\n",
              "      --disabled-bg-color: #DDD;\n",
              "  }\n",
              "\n",
              "  [theme=dark] .colab-df-quickchart {\n",
              "      --bg-color: #3B4455;\n",
              "      --fill-color: #D2E3FC;\n",
              "      --hover-bg-color: #434B5C;\n",
              "      --hover-fill-color: #FFFFFF;\n",
              "      --disabled-bg-color: #3B4455;\n",
              "      --disabled-fill-color: #666;\n",
              "  }\n",
              "\n",
              "  .colab-df-quickchart {\n",
              "    background-color: var(--bg-color);\n",
              "    border: none;\n",
              "    border-radius: 50%;\n",
              "    cursor: pointer;\n",
              "    display: none;\n",
              "    fill: var(--fill-color);\n",
              "    height: 32px;\n",
              "    padding: 0;\n",
              "    width: 32px;\n",
              "  }\n",
              "\n",
              "  .colab-df-quickchart:hover {\n",
              "    background-color: var(--hover-bg-color);\n",
              "    box-shadow: 0 1px 2px rgba(60, 64, 67, 0.3), 0 1px 3px 1px rgba(60, 64, 67, 0.15);\n",
              "    fill: var(--button-hover-fill-color);\n",
              "  }\n",
              "\n",
              "  .colab-df-quickchart-complete:disabled,\n",
              "  .colab-df-quickchart-complete:disabled:hover {\n",
              "    background-color: var(--disabled-bg-color);\n",
              "    fill: var(--disabled-fill-color);\n",
              "    box-shadow: none;\n",
              "  }\n",
              "\n",
              "  .colab-df-spinner {\n",
              "    border: 2px solid var(--fill-color);\n",
              "    border-color: transparent;\n",
              "    border-bottom-color: var(--fill-color);\n",
              "    animation:\n",
              "      spin 1s steps(1) infinite;\n",
              "  }\n",
              "\n",
              "  @keyframes spin {\n",
              "    0% {\n",
              "      border-color: transparent;\n",
              "      border-bottom-color: var(--fill-color);\n",
              "      border-left-color: var(--fill-color);\n",
              "    }\n",
              "    20% {\n",
              "      border-color: transparent;\n",
              "      border-left-color: var(--fill-color);\n",
              "      border-top-color: var(--fill-color);\n",
              "    }\n",
              "    30% {\n",
              "      border-color: transparent;\n",
              "      border-left-color: var(--fill-color);\n",
              "      border-top-color: var(--fill-color);\n",
              "      border-right-color: var(--fill-color);\n",
              "    }\n",
              "    40% {\n",
              "      border-color: transparent;\n",
              "      border-right-color: var(--fill-color);\n",
              "      border-top-color: var(--fill-color);\n",
              "    }\n",
              "    60% {\n",
              "      border-color: transparent;\n",
              "      border-right-color: var(--fill-color);\n",
              "    }\n",
              "    80% {\n",
              "      border-color: transparent;\n",
              "      border-right-color: var(--fill-color);\n",
              "      border-bottom-color: var(--fill-color);\n",
              "    }\n",
              "    90% {\n",
              "      border-color: transparent;\n",
              "      border-bottom-color: var(--fill-color);\n",
              "    }\n",
              "  }\n",
              "</style>\n",
              "\n",
              "  <script>\n",
              "    async function quickchart(key) {\n",
              "      const quickchartButtonEl =\n",
              "        document.querySelector('#' + key + ' button');\n",
              "      quickchartButtonEl.disabled = true;  // To prevent multiple clicks.\n",
              "      quickchartButtonEl.classList.add('colab-df-spinner');\n",
              "      try {\n",
              "        const charts = await google.colab.kernel.invokeFunction(\n",
              "            'suggestCharts', [key], {});\n",
              "      } catch (error) {\n",
              "        console.error('Error during call to suggestCharts:', error);\n",
              "      }\n",
              "      quickchartButtonEl.classList.remove('colab-df-spinner');\n",
              "      quickchartButtonEl.classList.add('colab-df-quickchart-complete');\n",
              "    }\n",
              "    (() => {\n",
              "      let quickchartButtonEl =\n",
              "        document.querySelector('#df-66c2d70f-356d-4585-b191-3e28352ebb7f button');\n",
              "      quickchartButtonEl.style.display =\n",
              "        google.colab.kernel.accessAllowed ? 'block' : 'none';\n",
              "    })();\n",
              "  </script>\n",
              "</div>\n",
              "    </div>\n",
              "  </div>\n"
            ],
            "text/plain": [
              "      Usia  Jumlah_Anak  Area_Bandung  Area_Bogor  Area_Jakarta  Area_Jogja  \\\n",
              "0     65.0            3             0           0             1           0   \n",
              "1     32.0            0             1           0             0           0   \n",
              "2     26.0            0             0           0             1           0   \n",
              "3     23.0            0             0           0             1           0   \n",
              "4     30.0            0             0           0             0           0   \n",
              "...    ...          ...           ...         ...           ...         ...   \n",
              "8648  54.0            0             0           0             0           0   \n",
              "8649  56.0            0             0           0             1           0   \n",
              "8650  53.0            4             0           0             1           0   \n",
              "8651  43.0            4             0           0             0           0   \n",
              "8652  46.0            4             0           0             0           0   \n",
              "\n",
              "      Area_Solo  Area_Surabaya  Jenis_Kelamin_Laki-laki  \\\n",
              "0             0              0                        0   \n",
              "1             0              0                        1   \n",
              "2             0              0                        1   \n",
              "3             0              0                        1   \n",
              "4             0              1                        1   \n",
              "...         ...            ...                      ...   \n",
              "8648          0              1                        0   \n",
              "8649          0              0                        1   \n",
              "8650          0              0                        1   \n",
              "8651          0              1                        1   \n",
              "8652          0              1                        1   \n",
              "\n",
              "      Jenis_Kelamin_Perempuan  Status_Perkawinan_Belum Menikah  \\\n",
              "0                           1                                0   \n",
              "1                           0                                1   \n",
              "2                           0                                1   \n",
              "3                           0                                1   \n",
              "4                           0                                1   \n",
              "...                       ...                              ...   \n",
              "8648                        1                                0   \n",
              "8649                        0                                1   \n",
              "8650                        0                                0   \n",
              "8651                        0                                0   \n",
              "8652                        0                                0   \n",
              "\n",
              "      Status_Perkawinan_Cerai  Status_Perkawinan_Menikah  Pendidikan_Doktor  \\\n",
              "0                           0                          1                  0   \n",
              "1                           0                          0                  0   \n",
              "2                           0                          0                  0   \n",
              "3                           0                          0                  1   \n",
              "4                           0                          0                  1   \n",
              "...                       ...                        ...                ...   \n",
              "8648                        0                          1                  0   \n",
              "8649                        0                          0                  0   \n",
              "8650                        0                          1                  0   \n",
              "8651                        1                          0                  0   \n",
              "8652                        1                          0                  0   \n",
              "\n",
              "      Pendidikan_Magister  Pendidikan_SD  Pendidikan_SDTidak Sekolah Formal  \\\n",
              "0                       1              0                                  0   \n",
              "1                       0              0                                  0   \n",
              "2                       1              0                                  0   \n",
              "3                       0              0                                  0   \n",
              "4                       0              0                                  0   \n",
              "...                   ...            ...                                ...   \n",
              "8648                    1              0                                  0   \n",
              "8649                    0              0                                  0   \n",
              "8650                    1              0                                  0   \n",
              "8651                    0              0                                  0   \n",
              "8652                    1              0                                  0   \n",
              "\n",
              "      Pendidikan_SMA  Pendidikan_SMP  Pendidikan_Sarjana  \\\n",
              "0                  0               0                   0   \n",
              "1                  1               0                   0   \n",
              "2                  0               0                   0   \n",
              "3                  0               0                   0   \n",
              "4                  0               0                   0   \n",
              "...              ...             ...                 ...   \n",
              "8648               0               0                   0   \n",
              "8649               0               0                   1   \n",
              "8650               0               0                   0   \n",
              "8651               1               0                   0   \n",
              "8652               0               0                   0   \n",
              "\n",
              "      Pendidikan_Tidak Sekolah Formal  Vintage_2 - 3 Tahun  Vintage_< 1 Tahun  \\\n",
              "0                                   0                    0                  1   \n",
              "1                                   0                    0                  1   \n",
              "2                                   0                    0                  1   \n",
              "3                                   0                    0                  1   \n",
              "4                                   0                    0                  1   \n",
              "...                               ...                  ...                ...   \n",
              "8648                                0                    1                  0   \n",
              "8649                                0                    1                  0   \n",
              "8650                                0                    1                  0   \n",
              "8651                                0                    1                  0   \n",
              "8652                                0                    1                  0   \n",
              "\n",
              "      Vintage_> 4 Tahun  \n",
              "0                     0  \n",
              "1                     0  \n",
              "2                     0  \n",
              "3                     0  \n",
              "4                     0  \n",
              "...                 ...  \n",
              "8648                  0  \n",
              "8649                  0  \n",
              "8650                  0  \n",
              "8651                  0  \n",
              "8652                  0  \n",
              "\n",
              "[8653 rows x 24 columns]"
            ]
          },
          "execution_count": 30,
          "metadata": {},
          "output_type": "execute_result"
        }
      ],
      "source": [
        "data1"
      ]
    },
    {
      "cell_type": "markdown",
      "metadata": {
        "id": "0eR1Ytu_5MZL"
      },
      "source": [
        "## Standardisasi Data Numerik"
      ]
    },
    {
      "cell_type": "code",
      "execution_count": 64,
      "metadata": {
        "colab": {
          "base_uri": "https://localhost:8080/"
        },
        "id": "feoelHKu_Xeq",
        "outputId": "a5cdeba5-cb6d-4df5-a744-8a2cf273e002"
      },
      "outputs": [
        {
          "data": {
            "text/plain": [
              "Index(['Produk_Tabungan', 'Produk_Deposito', 'Produk_Kartu_Kredit',\n",
              "       'Produk_Kredit_Rumah', 'Produk_Kredit_Kendaraan',\n",
              "       'Produk_Kredit_Dana_Tunai', 'Total_Kepemilikan_Produk',\n",
              "       'Pendapatan_Tahunan', 'Total_Relationship_Balance'],\n",
              "      dtype='object')"
            ]
          },
          "execution_count": 64,
          "metadata": {},
          "output_type": "execute_result"
        }
      ],
      "source": [
        "predname_num = data2.columns\n",
        "predname_num"
      ]
    },
    {
      "cell_type": "code",
      "execution_count": 65,
      "metadata": {
        "colab": {
          "base_uri": "https://localhost:8080/",
          "height": 206
        },
        "id": "cPal1zMq5MZL",
        "outputId": "b6abfcbb-3177-4418-e952-07f6aaa2816f"
      },
      "outputs": [
        {
          "data": {
            "text/html": [
              "<div>\n",
              "<style scoped>\n",
              "    .dataframe tbody tr th:only-of-type {\n",
              "        vertical-align: middle;\n",
              "    }\n",
              "\n",
              "    .dataframe tbody tr th {\n",
              "        vertical-align: top;\n",
              "    }\n",
              "\n",
              "    .dataframe thead th {\n",
              "        text-align: right;\n",
              "    }\n",
              "</style>\n",
              "<table border=\"1\" class=\"dataframe\">\n",
              "  <thead>\n",
              "    <tr style=\"text-align: right;\">\n",
              "      <th></th>\n",
              "      <th>0</th>\n",
              "      <th>1</th>\n",
              "      <th>2</th>\n",
              "      <th>3</th>\n",
              "      <th>4</th>\n",
              "      <th>5</th>\n",
              "      <th>6</th>\n",
              "      <th>7</th>\n",
              "      <th>8</th>\n",
              "    </tr>\n",
              "  </thead>\n",
              "  <tbody>\n",
              "    <tr>\n",
              "      <th>0</th>\n",
              "      <td>0.315645</td>\n",
              "      <td>-1.220392</td>\n",
              "      <td>-0.695676</td>\n",
              "      <td>-1.184178</td>\n",
              "      <td>-0.436158</td>\n",
              "      <td>-1.121909</td>\n",
              "      <td>-2.057258</td>\n",
              "      <td>-1.256170</td>\n",
              "      <td>-1.607805</td>\n",
              "    </tr>\n",
              "    <tr>\n",
              "      <th>1</th>\n",
              "      <td>0.315645</td>\n",
              "      <td>-1.220392</td>\n",
              "      <td>-0.695676</td>\n",
              "      <td>-1.184178</td>\n",
              "      <td>-0.436158</td>\n",
              "      <td>-1.121909</td>\n",
              "      <td>-2.057258</td>\n",
              "      <td>-0.800973</td>\n",
              "      <td>0.410538</td>\n",
              "    </tr>\n",
              "    <tr>\n",
              "      <th>2</th>\n",
              "      <td>0.315645</td>\n",
              "      <td>-1.220392</td>\n",
              "      <td>-0.695676</td>\n",
              "      <td>-1.184178</td>\n",
              "      <td>-0.436158</td>\n",
              "      <td>-1.121909</td>\n",
              "      <td>-2.057258</td>\n",
              "      <td>-0.717705</td>\n",
              "      <td>-1.146030</td>\n",
              "    </tr>\n",
              "    <tr>\n",
              "      <th>3</th>\n",
              "      <td>0.315645</td>\n",
              "      <td>-1.220392</td>\n",
              "      <td>-0.695676</td>\n",
              "      <td>-1.184178</td>\n",
              "      <td>-0.436158</td>\n",
              "      <td>-1.121909</td>\n",
              "      <td>-2.057258</td>\n",
              "      <td>0.103871</td>\n",
              "      <td>0.047197</td>\n",
              "    </tr>\n",
              "    <tr>\n",
              "      <th>4</th>\n",
              "      <td>0.315645</td>\n",
              "      <td>-1.220392</td>\n",
              "      <td>-0.695676</td>\n",
              "      <td>-1.184178</td>\n",
              "      <td>-0.436158</td>\n",
              "      <td>-1.121909</td>\n",
              "      <td>-2.057258</td>\n",
              "      <td>-0.928650</td>\n",
              "      <td>-1.489416</td>\n",
              "    </tr>\n",
              "  </tbody>\n",
              "</table>\n",
              "</div>"
            ],
            "text/plain": [
              "          0         1         2         3         4         5         6  \\\n",
              "0  0.315645 -1.220392 -0.695676 -1.184178 -0.436158 -1.121909 -2.057258   \n",
              "1  0.315645 -1.220392 -0.695676 -1.184178 -0.436158 -1.121909 -2.057258   \n",
              "2  0.315645 -1.220392 -0.695676 -1.184178 -0.436158 -1.121909 -2.057258   \n",
              "3  0.315645 -1.220392 -0.695676 -1.184178 -0.436158 -1.121909 -2.057258   \n",
              "4  0.315645 -1.220392 -0.695676 -1.184178 -0.436158 -1.121909 -2.057258   \n",
              "\n",
              "          7         8  \n",
              "0 -1.256170 -1.607805  \n",
              "1 -0.800973  0.410538  \n",
              "2 -0.717705 -1.146030  \n",
              "3  0.103871  0.047197  \n",
              "4 -0.928650 -1.489416  "
            ]
          },
          "execution_count": 65,
          "metadata": {},
          "output_type": "execute_result"
        }
      ],
      "source": [
        "from sklearn.preprocessing import StandardScaler\n",
        "pt = StandardScaler()\n",
        "X_num = pd.DataFrame(pt.fit_transform(data2))\n",
        "X_num.head()"
      ]
    },
    {
      "cell_type": "code",
      "execution_count": 66,
      "metadata": {
        "colab": {
          "base_uri": "https://localhost:8080/",
          "height": 226
        },
        "id": "i1Pew8Cn5MZM",
        "outputId": "d1a6267f-a51b-40e0-b4fc-b5dcd606698a"
      },
      "outputs": [
        {
          "data": {
            "text/html": [
              "<div>\n",
              "<style scoped>\n",
              "    .dataframe tbody tr th:only-of-type {\n",
              "        vertical-align: middle;\n",
              "    }\n",
              "\n",
              "    .dataframe tbody tr th {\n",
              "        vertical-align: top;\n",
              "    }\n",
              "\n",
              "    .dataframe thead th {\n",
              "        text-align: right;\n",
              "    }\n",
              "</style>\n",
              "<table border=\"1\" class=\"dataframe\">\n",
              "  <thead>\n",
              "    <tr style=\"text-align: right;\">\n",
              "      <th></th>\n",
              "      <th>Produk_Tabungan</th>\n",
              "      <th>Produk_Deposito</th>\n",
              "      <th>Produk_Kartu_Kredit</th>\n",
              "      <th>Produk_Kredit_Rumah</th>\n",
              "      <th>Produk_Kredit_Kendaraan</th>\n",
              "      <th>Produk_Kredit_Dana_Tunai</th>\n",
              "      <th>Total_Kepemilikan_Produk</th>\n",
              "      <th>Pendapatan_Tahunan</th>\n",
              "      <th>Total_Relationship_Balance</th>\n",
              "    </tr>\n",
              "  </thead>\n",
              "  <tbody>\n",
              "    <tr>\n",
              "      <th>0</th>\n",
              "      <td>0.315645</td>\n",
              "      <td>-1.220392</td>\n",
              "      <td>-0.695676</td>\n",
              "      <td>-1.184178</td>\n",
              "      <td>-0.436158</td>\n",
              "      <td>-1.121909</td>\n",
              "      <td>-2.057258</td>\n",
              "      <td>-1.256170</td>\n",
              "      <td>-1.607805</td>\n",
              "    </tr>\n",
              "    <tr>\n",
              "      <th>1</th>\n",
              "      <td>0.315645</td>\n",
              "      <td>-1.220392</td>\n",
              "      <td>-0.695676</td>\n",
              "      <td>-1.184178</td>\n",
              "      <td>-0.436158</td>\n",
              "      <td>-1.121909</td>\n",
              "      <td>-2.057258</td>\n",
              "      <td>-0.800973</td>\n",
              "      <td>0.410538</td>\n",
              "    </tr>\n",
              "    <tr>\n",
              "      <th>2</th>\n",
              "      <td>0.315645</td>\n",
              "      <td>-1.220392</td>\n",
              "      <td>-0.695676</td>\n",
              "      <td>-1.184178</td>\n",
              "      <td>-0.436158</td>\n",
              "      <td>-1.121909</td>\n",
              "      <td>-2.057258</td>\n",
              "      <td>-0.717705</td>\n",
              "      <td>-1.146030</td>\n",
              "    </tr>\n",
              "    <tr>\n",
              "      <th>3</th>\n",
              "      <td>0.315645</td>\n",
              "      <td>-1.220392</td>\n",
              "      <td>-0.695676</td>\n",
              "      <td>-1.184178</td>\n",
              "      <td>-0.436158</td>\n",
              "      <td>-1.121909</td>\n",
              "      <td>-2.057258</td>\n",
              "      <td>0.103871</td>\n",
              "      <td>0.047197</td>\n",
              "    </tr>\n",
              "    <tr>\n",
              "      <th>4</th>\n",
              "      <td>0.315645</td>\n",
              "      <td>-1.220392</td>\n",
              "      <td>-0.695676</td>\n",
              "      <td>-1.184178</td>\n",
              "      <td>-0.436158</td>\n",
              "      <td>-1.121909</td>\n",
              "      <td>-2.057258</td>\n",
              "      <td>-0.928650</td>\n",
              "      <td>-1.489416</td>\n",
              "    </tr>\n",
              "  </tbody>\n",
              "</table>\n",
              "</div>"
            ],
            "text/plain": [
              "   Produk_Tabungan  Produk_Deposito  Produk_Kartu_Kredit  Produk_Kredit_Rumah  \\\n",
              "0         0.315645        -1.220392            -0.695676            -1.184178   \n",
              "1         0.315645        -1.220392            -0.695676            -1.184178   \n",
              "2         0.315645        -1.220392            -0.695676            -1.184178   \n",
              "3         0.315645        -1.220392            -0.695676            -1.184178   \n",
              "4         0.315645        -1.220392            -0.695676            -1.184178   \n",
              "\n",
              "   Produk_Kredit_Kendaraan  Produk_Kredit_Dana_Tunai  \\\n",
              "0                -0.436158                 -1.121909   \n",
              "1                -0.436158                 -1.121909   \n",
              "2                -0.436158                 -1.121909   \n",
              "3                -0.436158                 -1.121909   \n",
              "4                -0.436158                 -1.121909   \n",
              "\n",
              "   Total_Kepemilikan_Produk  Pendapatan_Tahunan  Total_Relationship_Balance  \n",
              "0                 -2.057258           -1.256170                   -1.607805  \n",
              "1                 -2.057258           -0.800973                    0.410538  \n",
              "2                 -2.057258           -0.717705                   -1.146030  \n",
              "3                 -2.057258            0.103871                    0.047197  \n",
              "4                 -2.057258           -0.928650                   -1.489416  "
            ]
          },
          "execution_count": 66,
          "metadata": {},
          "output_type": "execute_result"
        }
      ],
      "source": [
        "X_num.columns = predname_num\n",
        "X_num.head()"
      ]
    },
    {
      "cell_type": "markdown",
      "metadata": {
        "id": "pPpqrSo75MZM"
      },
      "source": [
        "## Pengecekan Korelasi"
      ]
    },
    {
      "cell_type": "code",
      "execution_count": 67,
      "metadata": {
        "id": "E71AyQiP5MZN"
      },
      "outputs": [],
      "source": [
        "corrtest1 = data1.corr().abs()\n",
        "corrtest2 = X_num.corr().abs()\n"
      ]
    },
    {
      "cell_type": "code",
      "execution_count": 69,
      "metadata": {
        "colab": {
          "base_uri": "https://localhost:8080/"
        },
        "id": "F_5Jb53L5MZN",
        "outputId": "8a5f61c5-c783-4c1a-94c7-c822d67627a0"
      },
      "outputs": [],
      "source": [
        "# Membuang Nilai Redundan Pada Matriks\n",
        "upper = corrtest1.where(np.triu(np.ones(corrtest1.shape), k=1).astype(bool))\n",
        "upper1 = corrtest2.where(np.triu(np.ones(corrtest2.shape), k=1).astype(bool))\n",
        "\n",
        "# Mencari Nilai Yang Berkorelasi di atas 0.7\n",
        "to_drop = [column for column in upper.columns if any(upper[column] > 0.7)]\n",
        "to_drop1 = [column for column in upper1.columns if any(upper1[column] > 0.7)]\n",
        "\n",
        "# Menghapus Kolom Yang Berkorelasi di atas 0.7\n",
        "data1 = data1.drop(to_drop, axis=1)\n",
        "data2 = data2.drop(to_drop1, axis=1)"
      ]
    },
    {
      "cell_type": "code",
      "execution_count": 70,
      "metadata": {
        "colab": {
          "base_uri": "https://localhost:8080/",
          "height": 461
        },
        "id": "UawnU2nz5MZN",
        "outputId": "5f84f892-9ef3-44c6-fcfd-c47ca8901b28"
      },
      "outputs": [
        {
          "data": {
            "text/html": [
              "<div>\n",
              "<style scoped>\n",
              "    .dataframe tbody tr th:only-of-type {\n",
              "        vertical-align: middle;\n",
              "    }\n",
              "\n",
              "    .dataframe tbody tr th {\n",
              "        vertical-align: top;\n",
              "    }\n",
              "\n",
              "    .dataframe thead th {\n",
              "        text-align: right;\n",
              "    }\n",
              "</style>\n",
              "<table border=\"1\" class=\"dataframe\">\n",
              "  <thead>\n",
              "    <tr style=\"text-align: right;\">\n",
              "      <th></th>\n",
              "      <th>Usia</th>\n",
              "      <th>Jumlah_Anak</th>\n",
              "      <th>Area_Bandung</th>\n",
              "      <th>Area_Bogor</th>\n",
              "      <th>Area_Jakarta</th>\n",
              "      <th>Area_Jogja</th>\n",
              "      <th>Area_Solo</th>\n",
              "      <th>Area_Surabaya</th>\n",
              "      <th>Jenis_Kelamin_Laki-laki</th>\n",
              "      <th>Status_Perkawinan_Belum Menikah</th>\n",
              "      <th>Status_Perkawinan_Cerai</th>\n",
              "      <th>Pendidikan_Doktor</th>\n",
              "      <th>Pendidikan_Magister</th>\n",
              "      <th>Pendidikan_SD</th>\n",
              "      <th>Pendidikan_SMA</th>\n",
              "      <th>Pendidikan_SMP</th>\n",
              "      <th>Pendidikan_Sarjana</th>\n",
              "      <th>Pendidikan_Tidak Sekolah Formal</th>\n",
              "      <th>Vintage_2 - 3 Tahun</th>\n",
              "      <th>Vintage_&lt; 1 Tahun</th>\n",
              "      <th>Vintage_&gt; 4 Tahun</th>\n",
              "    </tr>\n",
              "  </thead>\n",
              "  <tbody>\n",
              "    <tr>\n",
              "      <th>0</th>\n",
              "      <td>23.0</td>\n",
              "      <td>0</td>\n",
              "      <td>False</td>\n",
              "      <td>False</td>\n",
              "      <td>True</td>\n",
              "      <td>False</td>\n",
              "      <td>False</td>\n",
              "      <td>False</td>\n",
              "      <td>True</td>\n",
              "      <td>True</td>\n",
              "      <td>False</td>\n",
              "      <td>True</td>\n",
              "      <td>False</td>\n",
              "      <td>False</td>\n",
              "      <td>False</td>\n",
              "      <td>False</td>\n",
              "      <td>False</td>\n",
              "      <td>False</td>\n",
              "      <td>False</td>\n",
              "      <td>True</td>\n",
              "      <td>False</td>\n",
              "    </tr>\n",
              "    <tr>\n",
              "      <th>1</th>\n",
              "      <td>30.0</td>\n",
              "      <td>0</td>\n",
              "      <td>False</td>\n",
              "      <td>False</td>\n",
              "      <td>False</td>\n",
              "      <td>False</td>\n",
              "      <td>False</td>\n",
              "      <td>True</td>\n",
              "      <td>True</td>\n",
              "      <td>True</td>\n",
              "      <td>False</td>\n",
              "      <td>True</td>\n",
              "      <td>False</td>\n",
              "      <td>False</td>\n",
              "      <td>False</td>\n",
              "      <td>False</td>\n",
              "      <td>False</td>\n",
              "      <td>False</td>\n",
              "      <td>False</td>\n",
              "      <td>True</td>\n",
              "      <td>False</td>\n",
              "    </tr>\n",
              "    <tr>\n",
              "      <th>2</th>\n",
              "      <td>29.0</td>\n",
              "      <td>0</td>\n",
              "      <td>False</td>\n",
              "      <td>False</td>\n",
              "      <td>False</td>\n",
              "      <td>False</td>\n",
              "      <td>True</td>\n",
              "      <td>False</td>\n",
              "      <td>True</td>\n",
              "      <td>True</td>\n",
              "      <td>False</td>\n",
              "      <td>True</td>\n",
              "      <td>False</td>\n",
              "      <td>False</td>\n",
              "      <td>False</td>\n",
              "      <td>False</td>\n",
              "      <td>False</td>\n",
              "      <td>False</td>\n",
              "      <td>False</td>\n",
              "      <td>True</td>\n",
              "      <td>False</td>\n",
              "    </tr>\n",
              "    <tr>\n",
              "      <th>3</th>\n",
              "      <td>49.0</td>\n",
              "      <td>0</td>\n",
              "      <td>False</td>\n",
              "      <td>False</td>\n",
              "      <td>True</td>\n",
              "      <td>False</td>\n",
              "      <td>False</td>\n",
              "      <td>False</td>\n",
              "      <td>True</td>\n",
              "      <td>True</td>\n",
              "      <td>False</td>\n",
              "      <td>True</td>\n",
              "      <td>False</td>\n",
              "      <td>False</td>\n",
              "      <td>False</td>\n",
              "      <td>False</td>\n",
              "      <td>False</td>\n",
              "      <td>False</td>\n",
              "      <td>False</td>\n",
              "      <td>True</td>\n",
              "      <td>False</td>\n",
              "    </tr>\n",
              "    <tr>\n",
              "      <th>4</th>\n",
              "      <td>21.0</td>\n",
              "      <td>0</td>\n",
              "      <td>False</td>\n",
              "      <td>False</td>\n",
              "      <td>True</td>\n",
              "      <td>False</td>\n",
              "      <td>False</td>\n",
              "      <td>False</td>\n",
              "      <td>False</td>\n",
              "      <td>True</td>\n",
              "      <td>False</td>\n",
              "      <td>True</td>\n",
              "      <td>False</td>\n",
              "      <td>False</td>\n",
              "      <td>False</td>\n",
              "      <td>False</td>\n",
              "      <td>False</td>\n",
              "      <td>False</td>\n",
              "      <td>False</td>\n",
              "      <td>True</td>\n",
              "      <td>False</td>\n",
              "    </tr>\n",
              "    <tr>\n",
              "      <th>...</th>\n",
              "      <td>...</td>\n",
              "      <td>...</td>\n",
              "      <td>...</td>\n",
              "      <td>...</td>\n",
              "      <td>...</td>\n",
              "      <td>...</td>\n",
              "      <td>...</td>\n",
              "      <td>...</td>\n",
              "      <td>...</td>\n",
              "      <td>...</td>\n",
              "      <td>...</td>\n",
              "      <td>...</td>\n",
              "      <td>...</td>\n",
              "      <td>...</td>\n",
              "      <td>...</td>\n",
              "      <td>...</td>\n",
              "      <td>...</td>\n",
              "      <td>...</td>\n",
              "      <td>...</td>\n",
              "      <td>...</td>\n",
              "      <td>...</td>\n",
              "    </tr>\n",
              "    <tr>\n",
              "      <th>8648</th>\n",
              "      <td>54.0</td>\n",
              "      <td>0</td>\n",
              "      <td>True</td>\n",
              "      <td>False</td>\n",
              "      <td>False</td>\n",
              "      <td>False</td>\n",
              "      <td>False</td>\n",
              "      <td>False</td>\n",
              "      <td>True</td>\n",
              "      <td>False</td>\n",
              "      <td>False</td>\n",
              "      <td>False</td>\n",
              "      <td>False</td>\n",
              "      <td>False</td>\n",
              "      <td>False</td>\n",
              "      <td>False</td>\n",
              "      <td>False</td>\n",
              "      <td>True</td>\n",
              "      <td>True</td>\n",
              "      <td>False</td>\n",
              "      <td>False</td>\n",
              "    </tr>\n",
              "    <tr>\n",
              "      <th>8649</th>\n",
              "      <td>58.0</td>\n",
              "      <td>0</td>\n",
              "      <td>False</td>\n",
              "      <td>False</td>\n",
              "      <td>True</td>\n",
              "      <td>False</td>\n",
              "      <td>False</td>\n",
              "      <td>False</td>\n",
              "      <td>True</td>\n",
              "      <td>True</td>\n",
              "      <td>False</td>\n",
              "      <td>False</td>\n",
              "      <td>False</td>\n",
              "      <td>False</td>\n",
              "      <td>False</td>\n",
              "      <td>False</td>\n",
              "      <td>False</td>\n",
              "      <td>True</td>\n",
              "      <td>True</td>\n",
              "      <td>False</td>\n",
              "      <td>False</td>\n",
              "    </tr>\n",
              "    <tr>\n",
              "      <th>8650</th>\n",
              "      <td>42.0</td>\n",
              "      <td>3</td>\n",
              "      <td>True</td>\n",
              "      <td>False</td>\n",
              "      <td>False</td>\n",
              "      <td>False</td>\n",
              "      <td>False</td>\n",
              "      <td>False</td>\n",
              "      <td>True</td>\n",
              "      <td>False</td>\n",
              "      <td>True</td>\n",
              "      <td>False</td>\n",
              "      <td>False</td>\n",
              "      <td>False</td>\n",
              "      <td>False</td>\n",
              "      <td>False</td>\n",
              "      <td>False</td>\n",
              "      <td>True</td>\n",
              "      <td>True</td>\n",
              "      <td>False</td>\n",
              "      <td>False</td>\n",
              "    </tr>\n",
              "    <tr>\n",
              "      <th>8651</th>\n",
              "      <td>44.0</td>\n",
              "      <td>1</td>\n",
              "      <td>False</td>\n",
              "      <td>False</td>\n",
              "      <td>False</td>\n",
              "      <td>True</td>\n",
              "      <td>False</td>\n",
              "      <td>False</td>\n",
              "      <td>True</td>\n",
              "      <td>False</td>\n",
              "      <td>True</td>\n",
              "      <td>False</td>\n",
              "      <td>False</td>\n",
              "      <td>False</td>\n",
              "      <td>False</td>\n",
              "      <td>False</td>\n",
              "      <td>False</td>\n",
              "      <td>True</td>\n",
              "      <td>True</td>\n",
              "      <td>False</td>\n",
              "      <td>False</td>\n",
              "    </tr>\n",
              "    <tr>\n",
              "      <th>8652</th>\n",
              "      <td>33.0</td>\n",
              "      <td>2</td>\n",
              "      <td>False</td>\n",
              "      <td>False</td>\n",
              "      <td>False</td>\n",
              "      <td>False</td>\n",
              "      <td>True</td>\n",
              "      <td>False</td>\n",
              "      <td>True</td>\n",
              "      <td>False</td>\n",
              "      <td>False</td>\n",
              "      <td>False</td>\n",
              "      <td>False</td>\n",
              "      <td>False</td>\n",
              "      <td>False</td>\n",
              "      <td>False</td>\n",
              "      <td>False</td>\n",
              "      <td>True</td>\n",
              "      <td>True</td>\n",
              "      <td>False</td>\n",
              "      <td>False</td>\n",
              "    </tr>\n",
              "  </tbody>\n",
              "</table>\n",
              "<p>8653 rows × 21 columns</p>\n",
              "</div>"
            ],
            "text/plain": [
              "      Usia  Jumlah_Anak  Area_Bandung  Area_Bogor  Area_Jakarta  Area_Jogja  \\\n",
              "0     23.0            0         False       False          True       False   \n",
              "1     30.0            0         False       False         False       False   \n",
              "2     29.0            0         False       False         False       False   \n",
              "3     49.0            0         False       False          True       False   \n",
              "4     21.0            0         False       False          True       False   \n",
              "...    ...          ...           ...         ...           ...         ...   \n",
              "8648  54.0            0          True       False         False       False   \n",
              "8649  58.0            0         False       False          True       False   \n",
              "8650  42.0            3          True       False         False       False   \n",
              "8651  44.0            1         False       False         False        True   \n",
              "8652  33.0            2         False       False         False       False   \n",
              "\n",
              "      Area_Solo  Area_Surabaya  Jenis_Kelamin_Laki-laki  \\\n",
              "0         False          False                     True   \n",
              "1         False           True                     True   \n",
              "2          True          False                     True   \n",
              "3         False          False                     True   \n",
              "4         False          False                    False   \n",
              "...         ...            ...                      ...   \n",
              "8648      False          False                     True   \n",
              "8649      False          False                     True   \n",
              "8650      False          False                     True   \n",
              "8651      False          False                     True   \n",
              "8652       True          False                     True   \n",
              "\n",
              "      Status_Perkawinan_Belum Menikah  Status_Perkawinan_Cerai  \\\n",
              "0                                True                    False   \n",
              "1                                True                    False   \n",
              "2                                True                    False   \n",
              "3                                True                    False   \n",
              "4                                True                    False   \n",
              "...                               ...                      ...   \n",
              "8648                            False                    False   \n",
              "8649                             True                    False   \n",
              "8650                            False                     True   \n",
              "8651                            False                     True   \n",
              "8652                            False                    False   \n",
              "\n",
              "      Pendidikan_Doktor  Pendidikan_Magister  Pendidikan_SD  Pendidikan_SMA  \\\n",
              "0                  True                False          False           False   \n",
              "1                  True                False          False           False   \n",
              "2                  True                False          False           False   \n",
              "3                  True                False          False           False   \n",
              "4                  True                False          False           False   \n",
              "...                 ...                  ...            ...             ...   \n",
              "8648              False                False          False           False   \n",
              "8649              False                False          False           False   \n",
              "8650              False                False          False           False   \n",
              "8651              False                False          False           False   \n",
              "8652              False                False          False           False   \n",
              "\n",
              "      Pendidikan_SMP  Pendidikan_Sarjana  Pendidikan_Tidak Sekolah Formal  \\\n",
              "0              False               False                            False   \n",
              "1              False               False                            False   \n",
              "2              False               False                            False   \n",
              "3              False               False                            False   \n",
              "4              False               False                            False   \n",
              "...              ...                 ...                              ...   \n",
              "8648           False               False                             True   \n",
              "8649           False               False                             True   \n",
              "8650           False               False                             True   \n",
              "8651           False               False                             True   \n",
              "8652           False               False                             True   \n",
              "\n",
              "      Vintage_2 - 3 Tahun  Vintage_< 1 Tahun  Vintage_> 4 Tahun  \n",
              "0                   False               True              False  \n",
              "1                   False               True              False  \n",
              "2                   False               True              False  \n",
              "3                   False               True              False  \n",
              "4                   False               True              False  \n",
              "...                   ...                ...                ...  \n",
              "8648                 True              False              False  \n",
              "8649                 True              False              False  \n",
              "8650                 True              False              False  \n",
              "8651                 True              False              False  \n",
              "8652                 True              False              False  \n",
              "\n",
              "[8653 rows x 21 columns]"
            ]
          },
          "execution_count": 70,
          "metadata": {},
          "output_type": "execute_result"
        }
      ],
      "source": [
        "data1"
      ]
    },
    {
      "cell_type": "code",
      "execution_count": 71,
      "metadata": {
        "colab": {
          "base_uri": "https://localhost:8080/",
          "height": 443
        },
        "id": "qmHEMH6EAk8S",
        "outputId": "0a927bd4-5696-417b-adfb-87b2ccde9896"
      },
      "outputs": [
        {
          "data": {
            "text/html": [
              "<div>\n",
              "<style scoped>\n",
              "    .dataframe tbody tr th:only-of-type {\n",
              "        vertical-align: middle;\n",
              "    }\n",
              "\n",
              "    .dataframe tbody tr th {\n",
              "        vertical-align: top;\n",
              "    }\n",
              "\n",
              "    .dataframe thead th {\n",
              "        text-align: right;\n",
              "    }\n",
              "</style>\n",
              "<table border=\"1\" class=\"dataframe\">\n",
              "  <thead>\n",
              "    <tr style=\"text-align: right;\">\n",
              "      <th></th>\n",
              "      <th>Produk_Tabungan</th>\n",
              "      <th>Produk_Deposito</th>\n",
              "      <th>Produk_Kartu_Kredit</th>\n",
              "      <th>Produk_Kredit_Rumah</th>\n",
              "      <th>Produk_Kredit_Kendaraan</th>\n",
              "      <th>Produk_Kredit_Dana_Tunai</th>\n",
              "      <th>Total_Kepemilikan_Produk</th>\n",
              "      <th>Pendapatan_Tahunan</th>\n",
              "      <th>Total_Relationship_Balance</th>\n",
              "    </tr>\n",
              "  </thead>\n",
              "  <tbody>\n",
              "    <tr>\n",
              "      <th>0</th>\n",
              "      <td>0.315645</td>\n",
              "      <td>-1.220392</td>\n",
              "      <td>-0.695676</td>\n",
              "      <td>-1.184178</td>\n",
              "      <td>-0.436158</td>\n",
              "      <td>-1.121909</td>\n",
              "      <td>-2.057258</td>\n",
              "      <td>-1.256170</td>\n",
              "      <td>-1.607805</td>\n",
              "    </tr>\n",
              "    <tr>\n",
              "      <th>1</th>\n",
              "      <td>0.315645</td>\n",
              "      <td>-1.220392</td>\n",
              "      <td>-0.695676</td>\n",
              "      <td>-1.184178</td>\n",
              "      <td>-0.436158</td>\n",
              "      <td>-1.121909</td>\n",
              "      <td>-2.057258</td>\n",
              "      <td>-0.800973</td>\n",
              "      <td>0.410538</td>\n",
              "    </tr>\n",
              "    <tr>\n",
              "      <th>2</th>\n",
              "      <td>0.315645</td>\n",
              "      <td>-1.220392</td>\n",
              "      <td>-0.695676</td>\n",
              "      <td>-1.184178</td>\n",
              "      <td>-0.436158</td>\n",
              "      <td>-1.121909</td>\n",
              "      <td>-2.057258</td>\n",
              "      <td>-0.717705</td>\n",
              "      <td>-1.146030</td>\n",
              "    </tr>\n",
              "    <tr>\n",
              "      <th>3</th>\n",
              "      <td>0.315645</td>\n",
              "      <td>-1.220392</td>\n",
              "      <td>-0.695676</td>\n",
              "      <td>-1.184178</td>\n",
              "      <td>-0.436158</td>\n",
              "      <td>-1.121909</td>\n",
              "      <td>-2.057258</td>\n",
              "      <td>0.103871</td>\n",
              "      <td>0.047197</td>\n",
              "    </tr>\n",
              "    <tr>\n",
              "      <th>4</th>\n",
              "      <td>0.315645</td>\n",
              "      <td>-1.220392</td>\n",
              "      <td>-0.695676</td>\n",
              "      <td>-1.184178</td>\n",
              "      <td>-0.436158</td>\n",
              "      <td>-1.121909</td>\n",
              "      <td>-2.057258</td>\n",
              "      <td>-0.928650</td>\n",
              "      <td>-1.489416</td>\n",
              "    </tr>\n",
              "    <tr>\n",
              "      <th>...</th>\n",
              "      <td>...</td>\n",
              "      <td>...</td>\n",
              "      <td>...</td>\n",
              "      <td>...</td>\n",
              "      <td>...</td>\n",
              "      <td>...</td>\n",
              "      <td>...</td>\n",
              "      <td>...</td>\n",
              "      <td>...</td>\n",
              "    </tr>\n",
              "    <tr>\n",
              "      <th>8648</th>\n",
              "      <td>0.315645</td>\n",
              "      <td>0.819409</td>\n",
              "      <td>1.437451</td>\n",
              "      <td>0.844468</td>\n",
              "      <td>-0.436158</td>\n",
              "      <td>0.891338</td>\n",
              "      <td>1.797748</td>\n",
              "      <td>0.359225</td>\n",
              "      <td>0.568823</td>\n",
              "    </tr>\n",
              "    <tr>\n",
              "      <th>8649</th>\n",
              "      <td>0.315645</td>\n",
              "      <td>0.819409</td>\n",
              "      <td>1.437451</td>\n",
              "      <td>0.844468</td>\n",
              "      <td>2.292747</td>\n",
              "      <td>-1.121909</td>\n",
              "      <td>1.797748</td>\n",
              "      <td>1.297376</td>\n",
              "      <td>-0.111517</td>\n",
              "    </tr>\n",
              "    <tr>\n",
              "      <th>8650</th>\n",
              "      <td>0.315645</td>\n",
              "      <td>0.819409</td>\n",
              "      <td>1.437451</td>\n",
              "      <td>0.844468</td>\n",
              "      <td>-0.436158</td>\n",
              "      <td>0.891338</td>\n",
              "      <td>1.797748</td>\n",
              "      <td>0.892139</td>\n",
              "      <td>1.199907</td>\n",
              "    </tr>\n",
              "    <tr>\n",
              "      <th>8651</th>\n",
              "      <td>0.315645</td>\n",
              "      <td>0.819409</td>\n",
              "      <td>-0.695676</td>\n",
              "      <td>0.844468</td>\n",
              "      <td>2.292747</td>\n",
              "      <td>0.891338</td>\n",
              "      <td>1.797748</td>\n",
              "      <td>-0.806524</td>\n",
              "      <td>-0.550539</td>\n",
              "    </tr>\n",
              "    <tr>\n",
              "      <th>8652</th>\n",
              "      <td>0.315645</td>\n",
              "      <td>0.819409</td>\n",
              "      <td>1.437451</td>\n",
              "      <td>0.844468</td>\n",
              "      <td>2.292747</td>\n",
              "      <td>0.891338</td>\n",
              "      <td>2.761500</td>\n",
              "      <td>-0.323571</td>\n",
              "      <td>-0.659477</td>\n",
              "    </tr>\n",
              "  </tbody>\n",
              "</table>\n",
              "<p>8653 rows × 9 columns</p>\n",
              "</div>"
            ],
            "text/plain": [
              "      Produk_Tabungan  Produk_Deposito  Produk_Kartu_Kredit  \\\n",
              "0            0.315645        -1.220392            -0.695676   \n",
              "1            0.315645        -1.220392            -0.695676   \n",
              "2            0.315645        -1.220392            -0.695676   \n",
              "3            0.315645        -1.220392            -0.695676   \n",
              "4            0.315645        -1.220392            -0.695676   \n",
              "...               ...              ...                  ...   \n",
              "8648         0.315645         0.819409             1.437451   \n",
              "8649         0.315645         0.819409             1.437451   \n",
              "8650         0.315645         0.819409             1.437451   \n",
              "8651         0.315645         0.819409            -0.695676   \n",
              "8652         0.315645         0.819409             1.437451   \n",
              "\n",
              "      Produk_Kredit_Rumah  Produk_Kredit_Kendaraan  Produk_Kredit_Dana_Tunai  \\\n",
              "0               -1.184178                -0.436158                 -1.121909   \n",
              "1               -1.184178                -0.436158                 -1.121909   \n",
              "2               -1.184178                -0.436158                 -1.121909   \n",
              "3               -1.184178                -0.436158                 -1.121909   \n",
              "4               -1.184178                -0.436158                 -1.121909   \n",
              "...                   ...                      ...                       ...   \n",
              "8648             0.844468                -0.436158                  0.891338   \n",
              "8649             0.844468                 2.292747                 -1.121909   \n",
              "8650             0.844468                -0.436158                  0.891338   \n",
              "8651             0.844468                 2.292747                  0.891338   \n",
              "8652             0.844468                 2.292747                  0.891338   \n",
              "\n",
              "      Total_Kepemilikan_Produk  Pendapatan_Tahunan  Total_Relationship_Balance  \n",
              "0                    -2.057258           -1.256170                   -1.607805  \n",
              "1                    -2.057258           -0.800973                    0.410538  \n",
              "2                    -2.057258           -0.717705                   -1.146030  \n",
              "3                    -2.057258            0.103871                    0.047197  \n",
              "4                    -2.057258           -0.928650                   -1.489416  \n",
              "...                        ...                 ...                         ...  \n",
              "8648                  1.797748            0.359225                    0.568823  \n",
              "8649                  1.797748            1.297376                   -0.111517  \n",
              "8650                  1.797748            0.892139                    1.199907  \n",
              "8651                  1.797748           -0.806524                   -0.550539  \n",
              "8652                  2.761500           -0.323571                   -0.659477  \n",
              "\n",
              "[8653 rows x 9 columns]"
            ]
          },
          "execution_count": 71,
          "metadata": {},
          "output_type": "execute_result"
        }
      ],
      "source": [
        "X_num"
      ]
    },
    {
      "cell_type": "markdown",
      "metadata": {
        "id": "VLqe_9Q0BOJ5"
      },
      "source": [
        "Gabungan Keduanya"
      ]
    },
    {
      "cell_type": "code",
      "execution_count": 72,
      "metadata": {
        "colab": {
          "base_uri": "https://localhost:8080/",
          "height": 461
        },
        "id": "QrKWgf4NBQSa",
        "outputId": "63c01e44-55c3-4571-eac3-de391b689422"
      },
      "outputs": [
        {
          "data": {
            "text/html": [
              "<div>\n",
              "<style scoped>\n",
              "    .dataframe tbody tr th:only-of-type {\n",
              "        vertical-align: middle;\n",
              "    }\n",
              "\n",
              "    .dataframe tbody tr th {\n",
              "        vertical-align: top;\n",
              "    }\n",
              "\n",
              "    .dataframe thead th {\n",
              "        text-align: right;\n",
              "    }\n",
              "</style>\n",
              "<table border=\"1\" class=\"dataframe\">\n",
              "  <thead>\n",
              "    <tr style=\"text-align: right;\">\n",
              "      <th></th>\n",
              "      <th>Usia</th>\n",
              "      <th>Jumlah_Anak</th>\n",
              "      <th>Area_Bandung</th>\n",
              "      <th>Area_Bogor</th>\n",
              "      <th>Area_Jakarta</th>\n",
              "      <th>Area_Jogja</th>\n",
              "      <th>Area_Solo</th>\n",
              "      <th>Area_Surabaya</th>\n",
              "      <th>Jenis_Kelamin_Laki-laki</th>\n",
              "      <th>Status_Perkawinan_Belum Menikah</th>\n",
              "      <th>Status_Perkawinan_Cerai</th>\n",
              "      <th>Pendidikan_Doktor</th>\n",
              "      <th>Pendidikan_Magister</th>\n",
              "      <th>Pendidikan_SD</th>\n",
              "      <th>Pendidikan_SMA</th>\n",
              "      <th>Pendidikan_SMP</th>\n",
              "      <th>Pendidikan_Sarjana</th>\n",
              "      <th>Pendidikan_Tidak Sekolah Formal</th>\n",
              "      <th>Vintage_2 - 3 Tahun</th>\n",
              "      <th>Vintage_&lt; 1 Tahun</th>\n",
              "      <th>Vintage_&gt; 4 Tahun</th>\n",
              "      <th>Produk_Tabungan</th>\n",
              "      <th>Produk_Deposito</th>\n",
              "      <th>Produk_Kartu_Kredit</th>\n",
              "      <th>Produk_Kredit_Rumah</th>\n",
              "      <th>Produk_Kredit_Kendaraan</th>\n",
              "      <th>Produk_Kredit_Dana_Tunai</th>\n",
              "      <th>Total_Kepemilikan_Produk</th>\n",
              "      <th>Pendapatan_Tahunan</th>\n",
              "      <th>Total_Relationship_Balance</th>\n",
              "    </tr>\n",
              "  </thead>\n",
              "  <tbody>\n",
              "    <tr>\n",
              "      <th>0</th>\n",
              "      <td>23.0</td>\n",
              "      <td>0</td>\n",
              "      <td>False</td>\n",
              "      <td>False</td>\n",
              "      <td>True</td>\n",
              "      <td>False</td>\n",
              "      <td>False</td>\n",
              "      <td>False</td>\n",
              "      <td>True</td>\n",
              "      <td>True</td>\n",
              "      <td>False</td>\n",
              "      <td>True</td>\n",
              "      <td>False</td>\n",
              "      <td>False</td>\n",
              "      <td>False</td>\n",
              "      <td>False</td>\n",
              "      <td>False</td>\n",
              "      <td>False</td>\n",
              "      <td>False</td>\n",
              "      <td>True</td>\n",
              "      <td>False</td>\n",
              "      <td>0.315645</td>\n",
              "      <td>-1.220392</td>\n",
              "      <td>-0.695676</td>\n",
              "      <td>-1.184178</td>\n",
              "      <td>-0.436158</td>\n",
              "      <td>-1.121909</td>\n",
              "      <td>-2.057258</td>\n",
              "      <td>-1.256170</td>\n",
              "      <td>-1.607805</td>\n",
              "    </tr>\n",
              "    <tr>\n",
              "      <th>1</th>\n",
              "      <td>30.0</td>\n",
              "      <td>0</td>\n",
              "      <td>False</td>\n",
              "      <td>False</td>\n",
              "      <td>False</td>\n",
              "      <td>False</td>\n",
              "      <td>False</td>\n",
              "      <td>True</td>\n",
              "      <td>True</td>\n",
              "      <td>True</td>\n",
              "      <td>False</td>\n",
              "      <td>True</td>\n",
              "      <td>False</td>\n",
              "      <td>False</td>\n",
              "      <td>False</td>\n",
              "      <td>False</td>\n",
              "      <td>False</td>\n",
              "      <td>False</td>\n",
              "      <td>False</td>\n",
              "      <td>True</td>\n",
              "      <td>False</td>\n",
              "      <td>0.315645</td>\n",
              "      <td>-1.220392</td>\n",
              "      <td>-0.695676</td>\n",
              "      <td>-1.184178</td>\n",
              "      <td>-0.436158</td>\n",
              "      <td>-1.121909</td>\n",
              "      <td>-2.057258</td>\n",
              "      <td>-0.800973</td>\n",
              "      <td>0.410538</td>\n",
              "    </tr>\n",
              "    <tr>\n",
              "      <th>2</th>\n",
              "      <td>29.0</td>\n",
              "      <td>0</td>\n",
              "      <td>False</td>\n",
              "      <td>False</td>\n",
              "      <td>False</td>\n",
              "      <td>False</td>\n",
              "      <td>True</td>\n",
              "      <td>False</td>\n",
              "      <td>True</td>\n",
              "      <td>True</td>\n",
              "      <td>False</td>\n",
              "      <td>True</td>\n",
              "      <td>False</td>\n",
              "      <td>False</td>\n",
              "      <td>False</td>\n",
              "      <td>False</td>\n",
              "      <td>False</td>\n",
              "      <td>False</td>\n",
              "      <td>False</td>\n",
              "      <td>True</td>\n",
              "      <td>False</td>\n",
              "      <td>0.315645</td>\n",
              "      <td>-1.220392</td>\n",
              "      <td>-0.695676</td>\n",
              "      <td>-1.184178</td>\n",
              "      <td>-0.436158</td>\n",
              "      <td>-1.121909</td>\n",
              "      <td>-2.057258</td>\n",
              "      <td>-0.717705</td>\n",
              "      <td>-1.146030</td>\n",
              "    </tr>\n",
              "    <tr>\n",
              "      <th>3</th>\n",
              "      <td>49.0</td>\n",
              "      <td>0</td>\n",
              "      <td>False</td>\n",
              "      <td>False</td>\n",
              "      <td>True</td>\n",
              "      <td>False</td>\n",
              "      <td>False</td>\n",
              "      <td>False</td>\n",
              "      <td>True</td>\n",
              "      <td>True</td>\n",
              "      <td>False</td>\n",
              "      <td>True</td>\n",
              "      <td>False</td>\n",
              "      <td>False</td>\n",
              "      <td>False</td>\n",
              "      <td>False</td>\n",
              "      <td>False</td>\n",
              "      <td>False</td>\n",
              "      <td>False</td>\n",
              "      <td>True</td>\n",
              "      <td>False</td>\n",
              "      <td>0.315645</td>\n",
              "      <td>-1.220392</td>\n",
              "      <td>-0.695676</td>\n",
              "      <td>-1.184178</td>\n",
              "      <td>-0.436158</td>\n",
              "      <td>-1.121909</td>\n",
              "      <td>-2.057258</td>\n",
              "      <td>0.103871</td>\n",
              "      <td>0.047197</td>\n",
              "    </tr>\n",
              "    <tr>\n",
              "      <th>4</th>\n",
              "      <td>21.0</td>\n",
              "      <td>0</td>\n",
              "      <td>False</td>\n",
              "      <td>False</td>\n",
              "      <td>True</td>\n",
              "      <td>False</td>\n",
              "      <td>False</td>\n",
              "      <td>False</td>\n",
              "      <td>False</td>\n",
              "      <td>True</td>\n",
              "      <td>False</td>\n",
              "      <td>True</td>\n",
              "      <td>False</td>\n",
              "      <td>False</td>\n",
              "      <td>False</td>\n",
              "      <td>False</td>\n",
              "      <td>False</td>\n",
              "      <td>False</td>\n",
              "      <td>False</td>\n",
              "      <td>True</td>\n",
              "      <td>False</td>\n",
              "      <td>0.315645</td>\n",
              "      <td>-1.220392</td>\n",
              "      <td>-0.695676</td>\n",
              "      <td>-1.184178</td>\n",
              "      <td>-0.436158</td>\n",
              "      <td>-1.121909</td>\n",
              "      <td>-2.057258</td>\n",
              "      <td>-0.928650</td>\n",
              "      <td>-1.489416</td>\n",
              "    </tr>\n",
              "    <tr>\n",
              "      <th>...</th>\n",
              "      <td>...</td>\n",
              "      <td>...</td>\n",
              "      <td>...</td>\n",
              "      <td>...</td>\n",
              "      <td>...</td>\n",
              "      <td>...</td>\n",
              "      <td>...</td>\n",
              "      <td>...</td>\n",
              "      <td>...</td>\n",
              "      <td>...</td>\n",
              "      <td>...</td>\n",
              "      <td>...</td>\n",
              "      <td>...</td>\n",
              "      <td>...</td>\n",
              "      <td>...</td>\n",
              "      <td>...</td>\n",
              "      <td>...</td>\n",
              "      <td>...</td>\n",
              "      <td>...</td>\n",
              "      <td>...</td>\n",
              "      <td>...</td>\n",
              "      <td>...</td>\n",
              "      <td>...</td>\n",
              "      <td>...</td>\n",
              "      <td>...</td>\n",
              "      <td>...</td>\n",
              "      <td>...</td>\n",
              "      <td>...</td>\n",
              "      <td>...</td>\n",
              "      <td>...</td>\n",
              "    </tr>\n",
              "    <tr>\n",
              "      <th>8648</th>\n",
              "      <td>54.0</td>\n",
              "      <td>0</td>\n",
              "      <td>True</td>\n",
              "      <td>False</td>\n",
              "      <td>False</td>\n",
              "      <td>False</td>\n",
              "      <td>False</td>\n",
              "      <td>False</td>\n",
              "      <td>True</td>\n",
              "      <td>False</td>\n",
              "      <td>False</td>\n",
              "      <td>False</td>\n",
              "      <td>False</td>\n",
              "      <td>False</td>\n",
              "      <td>False</td>\n",
              "      <td>False</td>\n",
              "      <td>False</td>\n",
              "      <td>True</td>\n",
              "      <td>True</td>\n",
              "      <td>False</td>\n",
              "      <td>False</td>\n",
              "      <td>0.315645</td>\n",
              "      <td>0.819409</td>\n",
              "      <td>1.437451</td>\n",
              "      <td>0.844468</td>\n",
              "      <td>-0.436158</td>\n",
              "      <td>0.891338</td>\n",
              "      <td>1.797748</td>\n",
              "      <td>0.359225</td>\n",
              "      <td>0.568823</td>\n",
              "    </tr>\n",
              "    <tr>\n",
              "      <th>8649</th>\n",
              "      <td>58.0</td>\n",
              "      <td>0</td>\n",
              "      <td>False</td>\n",
              "      <td>False</td>\n",
              "      <td>True</td>\n",
              "      <td>False</td>\n",
              "      <td>False</td>\n",
              "      <td>False</td>\n",
              "      <td>True</td>\n",
              "      <td>True</td>\n",
              "      <td>False</td>\n",
              "      <td>False</td>\n",
              "      <td>False</td>\n",
              "      <td>False</td>\n",
              "      <td>False</td>\n",
              "      <td>False</td>\n",
              "      <td>False</td>\n",
              "      <td>True</td>\n",
              "      <td>True</td>\n",
              "      <td>False</td>\n",
              "      <td>False</td>\n",
              "      <td>0.315645</td>\n",
              "      <td>0.819409</td>\n",
              "      <td>1.437451</td>\n",
              "      <td>0.844468</td>\n",
              "      <td>2.292747</td>\n",
              "      <td>-1.121909</td>\n",
              "      <td>1.797748</td>\n",
              "      <td>1.297376</td>\n",
              "      <td>-0.111517</td>\n",
              "    </tr>\n",
              "    <tr>\n",
              "      <th>8650</th>\n",
              "      <td>42.0</td>\n",
              "      <td>3</td>\n",
              "      <td>True</td>\n",
              "      <td>False</td>\n",
              "      <td>False</td>\n",
              "      <td>False</td>\n",
              "      <td>False</td>\n",
              "      <td>False</td>\n",
              "      <td>True</td>\n",
              "      <td>False</td>\n",
              "      <td>True</td>\n",
              "      <td>False</td>\n",
              "      <td>False</td>\n",
              "      <td>False</td>\n",
              "      <td>False</td>\n",
              "      <td>False</td>\n",
              "      <td>False</td>\n",
              "      <td>True</td>\n",
              "      <td>True</td>\n",
              "      <td>False</td>\n",
              "      <td>False</td>\n",
              "      <td>0.315645</td>\n",
              "      <td>0.819409</td>\n",
              "      <td>1.437451</td>\n",
              "      <td>0.844468</td>\n",
              "      <td>-0.436158</td>\n",
              "      <td>0.891338</td>\n",
              "      <td>1.797748</td>\n",
              "      <td>0.892139</td>\n",
              "      <td>1.199907</td>\n",
              "    </tr>\n",
              "    <tr>\n",
              "      <th>8651</th>\n",
              "      <td>44.0</td>\n",
              "      <td>1</td>\n",
              "      <td>False</td>\n",
              "      <td>False</td>\n",
              "      <td>False</td>\n",
              "      <td>True</td>\n",
              "      <td>False</td>\n",
              "      <td>False</td>\n",
              "      <td>True</td>\n",
              "      <td>False</td>\n",
              "      <td>True</td>\n",
              "      <td>False</td>\n",
              "      <td>False</td>\n",
              "      <td>False</td>\n",
              "      <td>False</td>\n",
              "      <td>False</td>\n",
              "      <td>False</td>\n",
              "      <td>True</td>\n",
              "      <td>True</td>\n",
              "      <td>False</td>\n",
              "      <td>False</td>\n",
              "      <td>0.315645</td>\n",
              "      <td>0.819409</td>\n",
              "      <td>-0.695676</td>\n",
              "      <td>0.844468</td>\n",
              "      <td>2.292747</td>\n",
              "      <td>0.891338</td>\n",
              "      <td>1.797748</td>\n",
              "      <td>-0.806524</td>\n",
              "      <td>-0.550539</td>\n",
              "    </tr>\n",
              "    <tr>\n",
              "      <th>8652</th>\n",
              "      <td>33.0</td>\n",
              "      <td>2</td>\n",
              "      <td>False</td>\n",
              "      <td>False</td>\n",
              "      <td>False</td>\n",
              "      <td>False</td>\n",
              "      <td>True</td>\n",
              "      <td>False</td>\n",
              "      <td>True</td>\n",
              "      <td>False</td>\n",
              "      <td>False</td>\n",
              "      <td>False</td>\n",
              "      <td>False</td>\n",
              "      <td>False</td>\n",
              "      <td>False</td>\n",
              "      <td>False</td>\n",
              "      <td>False</td>\n",
              "      <td>True</td>\n",
              "      <td>True</td>\n",
              "      <td>False</td>\n",
              "      <td>False</td>\n",
              "      <td>0.315645</td>\n",
              "      <td>0.819409</td>\n",
              "      <td>1.437451</td>\n",
              "      <td>0.844468</td>\n",
              "      <td>2.292747</td>\n",
              "      <td>0.891338</td>\n",
              "      <td>2.761500</td>\n",
              "      <td>-0.323571</td>\n",
              "      <td>-0.659477</td>\n",
              "    </tr>\n",
              "  </tbody>\n",
              "</table>\n",
              "<p>8653 rows × 30 columns</p>\n",
              "</div>"
            ],
            "text/plain": [
              "      Usia  Jumlah_Anak  Area_Bandung  Area_Bogor  Area_Jakarta  Area_Jogja  \\\n",
              "0     23.0            0         False       False          True       False   \n",
              "1     30.0            0         False       False         False       False   \n",
              "2     29.0            0         False       False         False       False   \n",
              "3     49.0            0         False       False          True       False   \n",
              "4     21.0            0         False       False          True       False   \n",
              "...    ...          ...           ...         ...           ...         ...   \n",
              "8648  54.0            0          True       False         False       False   \n",
              "8649  58.0            0         False       False          True       False   \n",
              "8650  42.0            3          True       False         False       False   \n",
              "8651  44.0            1         False       False         False        True   \n",
              "8652  33.0            2         False       False         False       False   \n",
              "\n",
              "      Area_Solo  Area_Surabaya  Jenis_Kelamin_Laki-laki  \\\n",
              "0         False          False                     True   \n",
              "1         False           True                     True   \n",
              "2          True          False                     True   \n",
              "3         False          False                     True   \n",
              "4         False          False                    False   \n",
              "...         ...            ...                      ...   \n",
              "8648      False          False                     True   \n",
              "8649      False          False                     True   \n",
              "8650      False          False                     True   \n",
              "8651      False          False                     True   \n",
              "8652       True          False                     True   \n",
              "\n",
              "      Status_Perkawinan_Belum Menikah  Status_Perkawinan_Cerai  \\\n",
              "0                                True                    False   \n",
              "1                                True                    False   \n",
              "2                                True                    False   \n",
              "3                                True                    False   \n",
              "4                                True                    False   \n",
              "...                               ...                      ...   \n",
              "8648                            False                    False   \n",
              "8649                             True                    False   \n",
              "8650                            False                     True   \n",
              "8651                            False                     True   \n",
              "8652                            False                    False   \n",
              "\n",
              "      Pendidikan_Doktor  Pendidikan_Magister  Pendidikan_SD  Pendidikan_SMA  \\\n",
              "0                  True                False          False           False   \n",
              "1                  True                False          False           False   \n",
              "2                  True                False          False           False   \n",
              "3                  True                False          False           False   \n",
              "4                  True                False          False           False   \n",
              "...                 ...                  ...            ...             ...   \n",
              "8648              False                False          False           False   \n",
              "8649              False                False          False           False   \n",
              "8650              False                False          False           False   \n",
              "8651              False                False          False           False   \n",
              "8652              False                False          False           False   \n",
              "\n",
              "      Pendidikan_SMP  Pendidikan_Sarjana  Pendidikan_Tidak Sekolah Formal  \\\n",
              "0              False               False                            False   \n",
              "1              False               False                            False   \n",
              "2              False               False                            False   \n",
              "3              False               False                            False   \n",
              "4              False               False                            False   \n",
              "...              ...                 ...                              ...   \n",
              "8648           False               False                             True   \n",
              "8649           False               False                             True   \n",
              "8650           False               False                             True   \n",
              "8651           False               False                             True   \n",
              "8652           False               False                             True   \n",
              "\n",
              "      Vintage_2 - 3 Tahun  Vintage_< 1 Tahun  Vintage_> 4 Tahun  \\\n",
              "0                   False               True              False   \n",
              "1                   False               True              False   \n",
              "2                   False               True              False   \n",
              "3                   False               True              False   \n",
              "4                   False               True              False   \n",
              "...                   ...                ...                ...   \n",
              "8648                 True              False              False   \n",
              "8649                 True              False              False   \n",
              "8650                 True              False              False   \n",
              "8651                 True              False              False   \n",
              "8652                 True              False              False   \n",
              "\n",
              "      Produk_Tabungan  Produk_Deposito  Produk_Kartu_Kredit  \\\n",
              "0            0.315645        -1.220392            -0.695676   \n",
              "1            0.315645        -1.220392            -0.695676   \n",
              "2            0.315645        -1.220392            -0.695676   \n",
              "3            0.315645        -1.220392            -0.695676   \n",
              "4            0.315645        -1.220392            -0.695676   \n",
              "...               ...              ...                  ...   \n",
              "8648         0.315645         0.819409             1.437451   \n",
              "8649         0.315645         0.819409             1.437451   \n",
              "8650         0.315645         0.819409             1.437451   \n",
              "8651         0.315645         0.819409            -0.695676   \n",
              "8652         0.315645         0.819409             1.437451   \n",
              "\n",
              "      Produk_Kredit_Rumah  Produk_Kredit_Kendaraan  Produk_Kredit_Dana_Tunai  \\\n",
              "0               -1.184178                -0.436158                 -1.121909   \n",
              "1               -1.184178                -0.436158                 -1.121909   \n",
              "2               -1.184178                -0.436158                 -1.121909   \n",
              "3               -1.184178                -0.436158                 -1.121909   \n",
              "4               -1.184178                -0.436158                 -1.121909   \n",
              "...                   ...                      ...                       ...   \n",
              "8648             0.844468                -0.436158                  0.891338   \n",
              "8649             0.844468                 2.292747                 -1.121909   \n",
              "8650             0.844468                -0.436158                  0.891338   \n",
              "8651             0.844468                 2.292747                  0.891338   \n",
              "8652             0.844468                 2.292747                  0.891338   \n",
              "\n",
              "      Total_Kepemilikan_Produk  Pendapatan_Tahunan  Total_Relationship_Balance  \n",
              "0                    -2.057258           -1.256170                   -1.607805  \n",
              "1                    -2.057258           -0.800973                    0.410538  \n",
              "2                    -2.057258           -0.717705                   -1.146030  \n",
              "3                    -2.057258            0.103871                    0.047197  \n",
              "4                    -2.057258           -0.928650                   -1.489416  \n",
              "...                        ...                 ...                         ...  \n",
              "8648                  1.797748            0.359225                    0.568823  \n",
              "8649                  1.797748            1.297376                   -0.111517  \n",
              "8650                  1.797748            0.892139                    1.199907  \n",
              "8651                  1.797748           -0.806524                   -0.550539  \n",
              "8652                  2.761500           -0.323571                   -0.659477  \n",
              "\n",
              "[8653 rows x 30 columns]"
            ]
          },
          "execution_count": 72,
          "metadata": {},
          "output_type": "execute_result"
        }
      ],
      "source": [
        "data_combined = pd.concat([data1, X_num], axis=1, join='inner')\n",
        "data_combined\n",
        "\n"
      ]
    },
    {
      "cell_type": "markdown",
      "metadata": {
        "id": "8eTXChr05MZO"
      },
      "source": [
        "# **Modeling & Evaluation**\n",
        "\n",
        "Pembangunan model akan menggunakan 2 algoritma:\n",
        "1. K-Means\n",
        "2. K-Medoid\n",
        "\n",
        "dengan pengecekan silhouette score\n"
      ]
    },
    {
      "cell_type": "markdown",
      "metadata": {
        "id": "8-a2lTTv5MZO"
      },
      "source": [
        "## K-Means"
      ]
    },
    {
      "cell_type": "code",
      "execution_count": 73,
      "metadata": {
        "id": "RYESUOCJ5MZO"
      },
      "outputs": [],
      "source": [
        "from sklearn.cluster import KMeans\n",
        "from sklearn.metrics import silhouette_score\n",
        "import matplotlib.pyplot as plt\n",
        "import seaborn as sns"
      ]
    },
    {
      "cell_type": "markdown",
      "metadata": {
        "id": "1vOiiOfYEIcd"
      },
      "source": [
        "Experiment 0"
      ]
    },
    {
      "cell_type": "code",
      "execution_count": 74,
      "metadata": {
        "colab": {
          "base_uri": "https://localhost:8080/"
        },
        "id": "TiVc2sSpEEJf",
        "outputId": "f4256eeb-aade-4aba-91b2-a9624438ecd5"
      },
      "outputs": [
        {
          "name": "stderr",
          "output_type": "stream",
          "text": [
            "c:\\Users\\Lenovo\\anaconda3\\Lib\\site-packages\\sklearn\\cluster\\_kmeans.py:1412: FutureWarning: The default value of `n_init` will change from 10 to 'auto' in 1.4. Set the value of `n_init` explicitly to suppress the warning\n",
            "  super()._check_params_vs_input(X, default_n_init=10)\n"
          ]
        },
        {
          "name": "stdout",
          "output_type": "stream",
          "text": [
            "Silhouette Score (K-Means) -3 : 0.4337636155000406\n"
          ]
        },
        {
          "name": "stderr",
          "output_type": "stream",
          "text": [
            "c:\\Users\\Lenovo\\anaconda3\\Lib\\site-packages\\sklearn\\cluster\\_kmeans.py:1412: FutureWarning: The default value of `n_init` will change from 10 to 'auto' in 1.4. Set the value of `n_init` explicitly to suppress the warning\n",
            "  super()._check_params_vs_input(X, default_n_init=10)\n"
          ]
        },
        {
          "name": "stdout",
          "output_type": "stream",
          "text": [
            "Silhouette Score (K-Means) -4 : 0.41093123023700157\n"
          ]
        },
        {
          "name": "stderr",
          "output_type": "stream",
          "text": [
            "c:\\Users\\Lenovo\\anaconda3\\Lib\\site-packages\\sklearn\\cluster\\_kmeans.py:1412: FutureWarning: The default value of `n_init` will change from 10 to 'auto' in 1.4. Set the value of `n_init` explicitly to suppress the warning\n",
            "  super()._check_params_vs_input(X, default_n_init=10)\n"
          ]
        },
        {
          "name": "stdout",
          "output_type": "stream",
          "text": [
            "Silhouette Score (K-Means) -5 : 0.32999985928593295\n"
          ]
        }
      ],
      "source": [
        "# Variasi hyperparameter (jumlah cluster)\n",
        "for n_clusters in range(3, 6):\n",
        "    kmeans = KMeans(n_clusters=n_clusters, random_state=0)\n",
        "    cluster_labels = kmeans.fit_predict(data_combined)\n",
        "    silhouette_avg = silhouette_score(data_combined, cluster_labels)\n",
        "    print(f\"Silhouette Score (K-Means) -\"+str(n_clusters)+\" : \"+str(silhouette_avg))\n",
        "    data0['Clustering_KMeans_Exp0_'+str(n_clusters)] = cluster_labels\n",
        "\n"
      ]
    },
    {
      "cell_type": "markdown",
      "metadata": {
        "id": "pnckt_tnEKk0"
      },
      "source": [
        "Experiment 1"
      ]
    },
    {
      "cell_type": "code",
      "execution_count": 75,
      "metadata": {
        "colab": {
          "base_uri": "https://localhost:8080/"
        },
        "id": "iMevgCMlEMuJ",
        "outputId": "1fdbfe56-863f-40ec-9a72-895f05ce8f3c"
      },
      "outputs": [
        {
          "name": "stderr",
          "output_type": "stream",
          "text": [
            "c:\\Users\\Lenovo\\anaconda3\\Lib\\site-packages\\sklearn\\cluster\\_kmeans.py:1412: FutureWarning: The default value of `n_init` will change from 10 to 'auto' in 1.4. Set the value of `n_init` explicitly to suppress the warning\n",
            "  super()._check_params_vs_input(X, default_n_init=10)\n"
          ]
        },
        {
          "name": "stdout",
          "output_type": "stream",
          "text": [
            "Silhouette Score (K-Means) -3 : 0.5001832110224678\n"
          ]
        },
        {
          "name": "stderr",
          "output_type": "stream",
          "text": [
            "c:\\Users\\Lenovo\\anaconda3\\Lib\\site-packages\\sklearn\\cluster\\_kmeans.py:1412: FutureWarning: The default value of `n_init` will change from 10 to 'auto' in 1.4. Set the value of `n_init` explicitly to suppress the warning\n",
            "  super()._check_params_vs_input(X, default_n_init=10)\n"
          ]
        },
        {
          "name": "stdout",
          "output_type": "stream",
          "text": [
            "Silhouette Score (K-Means) -4 : 0.4723681211881035\n"
          ]
        },
        {
          "name": "stderr",
          "output_type": "stream",
          "text": [
            "c:\\Users\\Lenovo\\anaconda3\\Lib\\site-packages\\sklearn\\cluster\\_kmeans.py:1412: FutureWarning: The default value of `n_init` will change from 10 to 'auto' in 1.4. Set the value of `n_init` explicitly to suppress the warning\n",
            "  super()._check_params_vs_input(X, default_n_init=10)\n"
          ]
        },
        {
          "name": "stdout",
          "output_type": "stream",
          "text": [
            "Silhouette Score (K-Means) -5 : 0.4166214027850611\n"
          ]
        }
      ],
      "source": [
        "for n_clusters in range(3, 6):\n",
        "    kmeans = KMeans(n_clusters=n_clusters, random_state=0)\n",
        "    cluster_labels = kmeans.fit_predict(data1)\n",
        "    silhouette_avg = silhouette_score(data1, cluster_labels)\n",
        "    print(f\"Silhouette Score (K-Means) -\"+str(n_clusters)+\" : \"+str(silhouette_avg))\n",
        "    data0['Clustering_KMeans_Exp1_'+str(n_clusters)] = cluster_labels\n"
      ]
    },
    {
      "cell_type": "markdown",
      "metadata": {
        "id": "HKmM5NvafQEH"
      },
      "source": [
        "Experiment 2"
      ]
    },
    {
      "cell_type": "code",
      "execution_count": 76,
      "metadata": {
        "colab": {
          "base_uri": "https://localhost:8080/"
        },
        "id": "0yabNCWmfQSA",
        "outputId": "2f90f995-21bd-4fb1-9c8b-ef580af42ef4"
      },
      "outputs": [
        {
          "name": "stderr",
          "output_type": "stream",
          "text": [
            "c:\\Users\\Lenovo\\anaconda3\\Lib\\site-packages\\sklearn\\cluster\\_kmeans.py:1412: FutureWarning: The default value of `n_init` will change from 10 to 'auto' in 1.4. Set the value of `n_init` explicitly to suppress the warning\n",
            "  super()._check_params_vs_input(X, default_n_init=10)\n"
          ]
        },
        {
          "name": "stdout",
          "output_type": "stream",
          "text": [
            "Silhouette Score (K-Means) -3 : 0.18408368480533616\n"
          ]
        },
        {
          "name": "stderr",
          "output_type": "stream",
          "text": [
            "c:\\Users\\Lenovo\\anaconda3\\Lib\\site-packages\\sklearn\\cluster\\_kmeans.py:1412: FutureWarning: The default value of `n_init` will change from 10 to 'auto' in 1.4. Set the value of `n_init` explicitly to suppress the warning\n",
            "  super()._check_params_vs_input(X, default_n_init=10)\n"
          ]
        },
        {
          "name": "stdout",
          "output_type": "stream",
          "text": [
            "Silhouette Score (K-Means) -4 : 0.1862782616840365\n"
          ]
        },
        {
          "name": "stderr",
          "output_type": "stream",
          "text": [
            "c:\\Users\\Lenovo\\anaconda3\\Lib\\site-packages\\sklearn\\cluster\\_kmeans.py:1412: FutureWarning: The default value of `n_init` will change from 10 to 'auto' in 1.4. Set the value of `n_init` explicitly to suppress the warning\n",
            "  super()._check_params_vs_input(X, default_n_init=10)\n"
          ]
        },
        {
          "name": "stdout",
          "output_type": "stream",
          "text": [
            "Silhouette Score (K-Means) -5 : 0.19917934939547233\n"
          ]
        }
      ],
      "source": [
        "for n_clusters in range(3, 6):\n",
        "    kmeans = KMeans(n_clusters=n_clusters, random_state=0)\n",
        "    cluster_labels = kmeans.fit_predict(X_num)\n",
        "    silhouette_avg = silhouette_score(X_num, cluster_labels)\n",
        "    print(f\"Silhouette Score (K-Means) -\"+str(n_clusters)+\" : \"+str(silhouette_avg))\n",
        "    data0['Clustering_KMeans_Exp2_'+str(n_clusters)] = cluster_labels\n"
      ]
    },
    {
      "cell_type": "markdown",
      "metadata": {
        "id": "INv1ZkTg5MZQ"
      },
      "source": [
        "## K-Medoids"
      ]
    },
    {
      "cell_type": "code",
      "execution_count": 77,
      "metadata": {
        "colab": {
          "base_uri": "https://localhost:8080/"
        },
        "id": "f7lbHtC-1d9I",
        "outputId": "2c9694ca-1d6e-455c-b633-5ad0f78a2e47"
      },
      "outputs": [
        {
          "name": "stdout",
          "output_type": "stream",
          "text": [
            "Collecting scikit-learn-extraNote: you may need to restart the kernel to use updated packages.\n",
            "\n",
            "  Obtaining dependency information for scikit-learn-extra from https://files.pythonhosted.org/packages/22/2f/86f58cb2bd3f81bdb28555470761c27c0d62a566329aac70e8507cb744fd/scikit_learn_extra-0.3.0-cp311-cp311-win_amd64.whl.metadata\n",
            "  Downloading scikit_learn_extra-0.3.0-cp311-cp311-win_amd64.whl.metadata (3.7 kB)\n",
            "Requirement already satisfied: numpy>=1.13.3 in c:\\users\\lenovo\\anaconda3\\lib\\site-packages (from scikit-learn-extra) (1.24.3)\n",
            "Requirement already satisfied: scipy>=0.19.1 in c:\\users\\lenovo\\anaconda3\\lib\\site-packages (from scikit-learn-extra) (1.11.1)\n",
            "Requirement already satisfied: scikit-learn>=0.23.0 in c:\\users\\lenovo\\anaconda3\\lib\\site-packages (from scikit-learn-extra) (1.3.0)\n",
            "Requirement already satisfied: joblib>=1.1.1 in c:\\users\\lenovo\\anaconda3\\lib\\site-packages (from scikit-learn>=0.23.0->scikit-learn-extra) (1.2.0)\n",
            "Requirement already satisfied: threadpoolctl>=2.0.0 in c:\\users\\lenovo\\anaconda3\\lib\\site-packages (from scikit-learn>=0.23.0->scikit-learn-extra) (2.2.0)\n",
            "Downloading scikit_learn_extra-0.3.0-cp311-cp311-win_amd64.whl (340 kB)\n",
            "   ---------------------------------------- 0.0/340.5 kB ? eta -:--:--\n",
            "   - -------------------------------------- 10.2/340.5 kB ? eta -:--:--\n",
            "   --- ----------------------------------- 30.7/340.5 kB 262.6 kB/s eta 0:00:02\n",
            "   ---- ---------------------------------- 41.0/340.5 kB 281.8 kB/s eta 0:00:02\n",
            "   ---------- ---------------------------- 92.2/340.5 kB 476.3 kB/s eta 0:00:01\n",
            "   ------------------------------- -------- 266.2/340.5 kB 1.3 MB/s eta 0:00:01\n",
            "   ---------------------------------------- 340.5/340.5 kB 1.3 MB/s eta 0:00:00\n",
            "Installing collected packages: scikit-learn-extra\n",
            "Successfully installed scikit-learn-extra-0.3.0\n"
          ]
        }
      ],
      "source": [
        "pip install scikit-learn-extra"
      ]
    },
    {
      "cell_type": "code",
      "execution_count": 78,
      "metadata": {
        "id": "yZkoa9p7fq6r"
      },
      "outputs": [],
      "source": [
        "from sklearn_extra.cluster import KMedoids"
      ]
    },
    {
      "cell_type": "markdown",
      "metadata": {
        "id": "NZgCR2d9hVHf"
      },
      "source": [
        "Experiment 0"
      ]
    },
    {
      "cell_type": "code",
      "execution_count": 79,
      "metadata": {
        "colab": {
          "base_uri": "https://localhost:8080/"
        },
        "id": "Whdrbjl5gp2B",
        "outputId": "15b21572-610c-4cbf-d3a2-c4387777f9f3"
      },
      "outputs": [
        {
          "name": "stdout",
          "output_type": "stream",
          "text": [
            "Silhouette Score (K-Medoids) -3 : 0.43369790762336996\n",
            "Silhouette Score (K-Medoids) -4 : 0.33519427927551565\n",
            "Silhouette Score (K-Medoids) -5 : 0.3211940252247904\n"
          ]
        }
      ],
      "source": [
        "for n_clusters in range(3, 6):\n",
        "    kmedoids = KMedoids(n_clusters=n_clusters, random_state=0)\n",
        "    cluster_labels = kmedoids.fit_predict(data_combined)\n",
        "    silhouette_avg = silhouette_score(data_combined, cluster_labels)\n",
        "    print(f\"Silhouette Score (K-Medoids) -\"+str(n_clusters)+\" : \"+str(silhouette_avg))\n",
        "    data0['Clustering_KMedoids_Exp0_'+str(n_clusters)] = cluster_labels"
      ]
    },
    {
      "cell_type": "markdown",
      "metadata": {
        "id": "Nej2QGQKiESx"
      },
      "source": [
        "Experiment 1"
      ]
    },
    {
      "cell_type": "code",
      "execution_count": 80,
      "metadata": {
        "colab": {
          "base_uri": "https://localhost:8080/"
        },
        "id": "ksxZJ1kJ5MZQ",
        "outputId": "3e531e12-aea0-4c28-cbd5-a940c1f0e318"
      },
      "outputs": [
        {
          "name": "stderr",
          "output_type": "stream",
          "text": [
            "c:\\Users\\Lenovo\\anaconda3\\Lib\\site-packages\\sklearn_extra\\cluster\\_k_medoids.py:329: UserWarning: Cluster 2 is empty! self.labels_[self.medoid_indices_[2]] may not be labeled with its corresponding cluster (2).\n",
            "  warnings.warn(\n"
          ]
        },
        {
          "name": "stdout",
          "output_type": "stream",
          "text": [
            "Silhouette Score (K-Medoids) -3 : 0.0050675633465087746\n"
          ]
        },
        {
          "name": "stderr",
          "output_type": "stream",
          "text": [
            "c:\\Users\\Lenovo\\anaconda3\\Lib\\site-packages\\sklearn_extra\\cluster\\_k_medoids.py:329: UserWarning: Cluster 2 is empty! self.labels_[self.medoid_indices_[2]] may not be labeled with its corresponding cluster (2).\n",
            "  warnings.warn(\n"
          ]
        },
        {
          "name": "stdout",
          "output_type": "stream",
          "text": [
            "Silhouette Score (K-Medoids) -4 : 0.4657942038387023\n"
          ]
        },
        {
          "name": "stderr",
          "output_type": "stream",
          "text": [
            "c:\\Users\\Lenovo\\anaconda3\\Lib\\site-packages\\sklearn_extra\\cluster\\_k_medoids.py:329: UserWarning: Cluster 2 is empty! self.labels_[self.medoid_indices_[2]] may not be labeled with its corresponding cluster (2).\n",
            "  warnings.warn(\n"
          ]
        },
        {
          "name": "stdout",
          "output_type": "stream",
          "text": [
            "Silhouette Score (K-Medoids) -5 : 0.4178025801646672\n"
          ]
        }
      ],
      "source": [
        "for n_clusters in range(3, 6):\n",
        "    kmedoids = KMedoids(n_clusters=n_clusters, random_state=0)\n",
        "    cluster_labels = kmedoids.fit_predict(data1)\n",
        "    silhouette_avg = silhouette_score(data1, cluster_labels)\n",
        "    print(f\"Silhouette Score (K-Medoids) -\"+str(n_clusters)+\" : \"+str(silhouette_avg))\n",
        "    data0['Clustering_KMedoids_Exp1_'+str(n_clusters)] = cluster_labels"
      ]
    },
    {
      "cell_type": "markdown",
      "metadata": {
        "id": "ulMGXL_LiLXW"
      },
      "source": [
        "Experiment 2"
      ]
    },
    {
      "cell_type": "code",
      "execution_count": 81,
      "metadata": {
        "colab": {
          "base_uri": "https://localhost:8080/"
        },
        "id": "rW-xg4H4iPHV",
        "outputId": "3b999521-f629-42e6-e4a4-93eb5b50c9ed"
      },
      "outputs": [
        {
          "name": "stdout",
          "output_type": "stream",
          "text": [
            "Silhouette Score (K-Medoids) -3 : 0.11659038864364947\n",
            "Silhouette Score (K-Medoids) -4 : 0.09680611087667028\n",
            "Silhouette Score (K-Medoids) -5 : 0.08883545658405254\n"
          ]
        }
      ],
      "source": [
        "for n_clusters in range(3, 6):\n",
        "    kmedoids = KMedoids(n_clusters=n_clusters, random_state=0)\n",
        "    cluster_labels = kmedoids.fit_predict(X_num)\n",
        "    silhouette_avg = silhouette_score(X_num, cluster_labels)\n",
        "    print(f\"Silhouette Score (K-Medoids) -\"+str(n_clusters)+\" : \"+str(silhouette_avg))\n",
        "    data0['Clustering_KMedoids_Exp2_'+str(n_clusters)] = cluster_labels"
      ]
    },
    {
      "cell_type": "markdown",
      "metadata": {
        "id": "bM-Pd-If5MZR"
      },
      "source": [
        "# Analisa Hasil"
      ]
    },
    {
      "cell_type": "code",
      "execution_count": 83,
      "metadata": {
        "colab": {
          "base_uri": "https://localhost:8080/",
          "height": 472
        },
        "id": "EoAYbgVrkFyR",
        "outputId": "7ba57d4b-07ab-4e1c-e275-ce4be05b1ccf"
      },
      "outputs": [
        {
          "data": {
            "image/png": "[encoded data removed]",
            "text/plain": [
              "<Figure size 640x480 with 1 Axes>"
            ]
          },
          "metadata": {},
          "output_type": "display_data"
        }
      ],
      "source": [
        "sns.scatterplot(data=data0, x='Usia', y='Total_Kepemilikan_Produk', hue='Clustering_KMeans_Exp1_3', palette='Set1')\n",
        "plt.title('Scatter Plot Hasil Clustering')\n",
        "plt.show()"
      ]
    },
    {
      "cell_type": "code",
      "execution_count": 84,
      "metadata": {
        "colab": {
          "base_uri": "https://localhost:8080/",
          "height": 472
        },
        "id": "nmlzguWh2hzP",
        "outputId": "efd6a174-9353-4154-eaf9-f5aee4b54a95"
      },
      "outputs": [
        {
          "data": {
            "image/png": "[encoded data removed]",
            "text/plain": [
              "<Figure size 640x480 with 1 Axes>"
            ]
          },
          "metadata": {},
          "output_type": "display_data"
        }
      ],
      "source": [
        "sns.scatterplot(data=data0, x='Total_Relationship_Balance', y='Total_Kepemilikan_Produk', hue='Clustering_KMeans_Exp1_3', palette='Set1')\n",
        "plt.title('Scatter Plot Hasil Clustering')\n",
        "plt.show()"
      ]
    },
    {
      "cell_type": "code",
      "execution_count": 85,
      "metadata": {
        "colab": {
          "base_uri": "https://localhost:8080/"
        },
        "id": "61j6v5Mdjta3",
        "outputId": "abf1d79c-7ad8-40a0-f0aa-c9b417661462"
      },
      "outputs": [
        {
          "name": "stdout",
          "output_type": "stream",
          "text": [
            "                               Usia  Jumlah_Anak  Produk_Tabungan  \\\n",
            "Clustering_KMeans_Exp1_3                                            \n",
            "0                         58.063617     1.474844         0.688565   \n",
            "1                         29.503177     1.191528         1.000000   \n",
            "2                         44.974856     1.295617         0.988107   \n",
            "\n",
            "                          Produk_Deposito  Produk_Kartu_Kredit  \\\n",
            "Clustering_KMeans_Exp1_3                                         \n",
            "0                                0.600416             0.342204   \n",
            "1                                0.592436             0.308018   \n",
            "2                                0.603126             0.333333   \n",
            "\n",
            "                          Produk_Kredit_Rumah  Produk_Kredit_Kendaraan  \\\n",
            "Clustering_KMeans_Exp1_3                                                 \n",
            "0                                    0.612474                 0.170062   \n",
            "1                                    0.586989                 0.157337   \n",
            "2                                    0.556575                 0.154264   \n",
            "\n",
            "                          Produk_Kredit_Dana_Tunai  Total_Kepemilikan_Produk  \\\n",
            "Clustering_KMeans_Exp1_3                                                       \n",
            "0                                         0.541788                  2.955509   \n",
            "1                                         0.599092                  3.243873   \n",
            "2                                         0.522936                  3.158342   \n",
            "\n",
            "                          Total_Relationship_Balance  \n",
            "Clustering_KMeans_Exp1_3                              \n",
            "0                                       2.379434e+08  \n",
            "1                                       2.439352e+08  \n",
            "2                                       2.384758e+08  \n"
          ]
        },
        {
          "data": {
            "text/plain": [
              "<module 'pandas' from 'c:\\\\Users\\\\Lenovo\\\\anaconda3\\\\Lib\\\\site-packages\\\\pandas\\\\__init__.py'>"
            ]
          },
          "execution_count": 85,
          "metadata": {},
          "output_type": "execute_result"
        }
      ],
      "source": [
        "cluster_means = data0[['Usia','Jumlah_Anak','Produk_Tabungan','Produk_Deposito','Produk_Kartu_Kredit','Produk_Kredit_Rumah','Produk_Kredit_Kendaraan','Produk_Kredit_Dana_Tunai','Total_Kepemilikan_Produk','Total_Relationship_Balance','Clustering_KMeans_Exp1_3']].groupby('Clustering_KMeans_Exp1_3').mean()\n",
        "print(cluster_means)\n",
        "pd"
      ]
    },
    {
      "cell_type": "markdown",
      "metadata": {
        "id": "jypMNn3D2udu"
      },
      "source": [
        "Group 0"
      ]
    },
    {
      "cell_type": "code",
      "execution_count": 86,
      "metadata": {
        "colab": {
          "base_uri": "https://localhost:8080/",
          "height": 300
        },
        "id": "Ds9Mv2nG2xCV",
        "outputId": "4347159b-082e-44be-a71c-4293c5fe413e"
      },
      "outputs": [
        {
          "data": {
            "text/html": [
              "<div>\n",
              "<style scoped>\n",
              "    .dataframe tbody tr th:only-of-type {\n",
              "        vertical-align: middle;\n",
              "    }\n",
              "\n",
              "    .dataframe tbody tr th {\n",
              "        vertical-align: top;\n",
              "    }\n",
              "\n",
              "    .dataframe thead th {\n",
              "        text-align: right;\n",
              "    }\n",
              "</style>\n",
              "<table border=\"1\" class=\"dataframe\">\n",
              "  <thead>\n",
              "    <tr style=\"text-align: right;\">\n",
              "      <th></th>\n",
              "      <th>Usia</th>\n",
              "      <th>Jumlah_Anak</th>\n",
              "      <th>Total_Kepemilikan_Produk</th>\n",
              "      <th>Total_Relationship_Balance</th>\n",
              "    </tr>\n",
              "  </thead>\n",
              "  <tbody>\n",
              "    <tr>\n",
              "      <th>count</th>\n",
              "      <td>2405.000000</td>\n",
              "      <td>2405.000000</td>\n",
              "      <td>2405.000000</td>\n",
              "      <td>2.405000e+03</td>\n",
              "    </tr>\n",
              "    <tr>\n",
              "      <th>mean</th>\n",
              "      <td>58.063617</td>\n",
              "      <td>1.474844</td>\n",
              "      <td>2.955509</td>\n",
              "      <td>2.379434e+08</td>\n",
              "    </tr>\n",
              "    <tr>\n",
              "      <th>std</th>\n",
              "      <td>5.298230</td>\n",
              "      <td>1.478314</td>\n",
              "      <td>1.053131</td>\n",
              "      <td>1.382820e+08</td>\n",
              "    </tr>\n",
              "    <tr>\n",
              "      <th>min</th>\n",
              "      <td>52.000000</td>\n",
              "      <td>0.000000</td>\n",
              "      <td>1.000000</td>\n",
              "      <td>1.028000e+03</td>\n",
              "    </tr>\n",
              "    <tr>\n",
              "      <th>25%</th>\n",
              "      <td>54.000000</td>\n",
              "      <td>0.000000</td>\n",
              "      <td>2.000000</td>\n",
              "      <td>1.245667e+08</td>\n",
              "    </tr>\n",
              "    <tr>\n",
              "      <th>50%</th>\n",
              "      <td>57.000000</td>\n",
              "      <td>1.000000</td>\n",
              "      <td>3.000000</td>\n",
              "      <td>2.322131e+08</td>\n",
              "    </tr>\n",
              "    <tr>\n",
              "      <th>75%</th>\n",
              "      <td>61.000000</td>\n",
              "      <td>3.000000</td>\n",
              "      <td>4.000000</td>\n",
              "      <td>3.491686e+08</td>\n",
              "    </tr>\n",
              "    <tr>\n",
              "      <th>max</th>\n",
              "      <td>70.000000</td>\n",
              "      <td>4.000000</td>\n",
              "      <td>6.000000</td>\n",
              "      <td>7.181097e+08</td>\n",
              "    </tr>\n",
              "  </tbody>\n",
              "</table>\n",
              "</div>"
            ],
            "text/plain": [
              "              Usia  Jumlah_Anak  Total_Kepemilikan_Produk  \\\n",
              "count  2405.000000  2405.000000               2405.000000   \n",
              "mean     58.063617     1.474844                  2.955509   \n",
              "std       5.298230     1.478314                  1.053131   \n",
              "min      52.000000     0.000000                  1.000000   \n",
              "25%      54.000000     0.000000                  2.000000   \n",
              "50%      57.000000     1.000000                  3.000000   \n",
              "75%      61.000000     3.000000                  4.000000   \n",
              "max      70.000000     4.000000                  6.000000   \n",
              "\n",
              "       Total_Relationship_Balance  \n",
              "count                2.405000e+03  \n",
              "mean                 2.379434e+08  \n",
              "std                  1.382820e+08  \n",
              "min                  1.028000e+03  \n",
              "25%                  1.245667e+08  \n",
              "50%                  2.322131e+08  \n",
              "75%                  3.491686e+08  \n",
              "max                  7.181097e+08  "
            ]
          },
          "execution_count": 86,
          "metadata": {},
          "output_type": "execute_result"
        }
      ],
      "source": [
        "data0[data0['Clustering_KMeans_Exp1_3']==0][['Usia','Jumlah_Anak','Total_Kepemilikan_Produk','Total_Relationship_Balance']].describe(include=\"all\")"
      ]
    },
    {
      "cell_type": "code",
      "execution_count": 87,
      "metadata": {
        "colab": {
          "base_uri": "https://localhost:8080/"
        },
        "id": "acXahmT23Ku_",
        "outputId": "df459568-ba17-4a07-ba91-807412c93a38"
      },
      "outputs": [
        {
          "data": {
            "text/plain": [
              "Area\n",
              "Jakarta     0.482328\n",
              "Bandung     0.163825\n",
              "Surabaya    0.125572\n",
              "Solo        0.125572\n",
              "Jogja       0.074012\n",
              "Bogor       0.028690\n",
              "Name: proportion, dtype: float64"
            ]
          },
          "execution_count": 87,
          "metadata": {},
          "output_type": "execute_result"
        }
      ],
      "source": [
        "data0[data0['Clustering_KMeans_Exp1_3']==0]['Area'].value_counts(normalize=True)"
      ]
    },
    {
      "cell_type": "code",
      "execution_count": 88,
      "metadata": {
        "colab": {
          "base_uri": "https://localhost:8080/"
        },
        "id": "WjdxQ6Gl3kwU",
        "outputId": "1def90e7-9be3-4fb8-a4e5-c07962a9e12e"
      },
      "outputs": [
        {
          "data": {
            "text/plain": [
              "Vintage\n",
              "2 - 3 Tahun    0.486486\n",
              "< 1 Tahun      0.310603\n",
              "> 4 Tahun      0.202911\n",
              "Name: proportion, dtype: float64"
            ]
          },
          "execution_count": 88,
          "metadata": {},
          "output_type": "execute_result"
        }
      ],
      "source": [
        "data0[data0['Clustering_KMeans_Exp1_3']==0]['Vintage'].value_counts(normalize=True)"
      ]
    },
    {
      "cell_type": "code",
      "execution_count": 89,
      "metadata": {
        "colab": {
          "base_uri": "https://localhost:8080/"
        },
        "id": "YF7sJ9Q63q-7",
        "outputId": "bab0a667-796d-49fe-deba-52b8a7a5eaa1"
      },
      "outputs": [
        {
          "data": {
            "text/plain": [
              "Pendidikan\n",
              "Sarjana                 0.265281\n",
              "SD                      0.197089\n",
              "SMA                     0.179626\n",
              "Tidak Sekolah Formal    0.103950\n",
              "Doktor                  0.086486\n",
              "SMP                     0.083992\n",
              "Magister                0.083576\n",
              "Name: proportion, dtype: float64"
            ]
          },
          "execution_count": 89,
          "metadata": {},
          "output_type": "execute_result"
        }
      ],
      "source": [
        "data0[data0['Clustering_KMeans_Exp1_3']==0]['Pendidikan'].value_counts(normalize=True)"
      ]
    },
    {
      "cell_type": "code",
      "execution_count": 90,
      "metadata": {
        "colab": {
          "base_uri": "https://localhost:8080/"
        },
        "id": "POjQm0E232Nr",
        "outputId": "facbe65b-3a75-47ac-8514-f5acd83db408"
      },
      "outputs": [
        {
          "data": {
            "text/plain": [
              "Jenis_Kelamin\n",
              "Laki-laki    0.672765\n",
              "Perempuan    0.327235\n",
              "Name: proportion, dtype: float64"
            ]
          },
          "execution_count": 90,
          "metadata": {},
          "output_type": "execute_result"
        }
      ],
      "source": [
        "data0[data0['Clustering_KMeans_Exp1_3']==0]['Jenis_Kelamin'].value_counts(normalize=True)"
      ]
    },
    {
      "cell_type": "markdown",
      "metadata": {
        "id": "8s1RSatf4etE"
      },
      "source": [
        "Group 1"
      ]
    },
    {
      "cell_type": "code",
      "execution_count": 91,
      "metadata": {
        "colab": {
          "base_uri": "https://localhost:8080/",
          "height": 300
        },
        "id": "6I6wQAuH4kaY",
        "outputId": "4c909229-07d8-4a39-b368-ecc11df00bd0"
      },
      "outputs": [
        {
          "data": {
            "text/html": [
              "<div>\n",
              "<style scoped>\n",
              "    .dataframe tbody tr th:only-of-type {\n",
              "        vertical-align: middle;\n",
              "    }\n",
              "\n",
              "    .dataframe tbody tr th {\n",
              "        vertical-align: top;\n",
              "    }\n",
              "\n",
              "    .dataframe thead th {\n",
              "        text-align: right;\n",
              "    }\n",
              "</style>\n",
              "<table border=\"1\" class=\"dataframe\">\n",
              "  <thead>\n",
              "    <tr style=\"text-align: right;\">\n",
              "      <th></th>\n",
              "      <th>Usia</th>\n",
              "      <th>Jumlah_Anak</th>\n",
              "      <th>Total_Kepemilikan_Produk</th>\n",
              "      <th>Total_Relationship_Balance</th>\n",
              "    </tr>\n",
              "  </thead>\n",
              "  <tbody>\n",
              "    <tr>\n",
              "      <th>count</th>\n",
              "      <td>3305.000000</td>\n",
              "      <td>3305.000000</td>\n",
              "      <td>3305.000000</td>\n",
              "      <td>3.305000e+03</td>\n",
              "    </tr>\n",
              "    <tr>\n",
              "      <th>mean</th>\n",
              "      <td>29.503177</td>\n",
              "      <td>1.191528</td>\n",
              "      <td>3.243873</td>\n",
              "      <td>2.439352e+08</td>\n",
              "    </tr>\n",
              "    <tr>\n",
              "      <th>std</th>\n",
              "      <td>4.254972</td>\n",
              "      <td>1.480683</td>\n",
              "      <td>1.008655</td>\n",
              "      <td>1.452356e+08</td>\n",
              "    </tr>\n",
              "    <tr>\n",
              "      <th>min</th>\n",
              "      <td>20.000000</td>\n",
              "      <td>0.000000</td>\n",
              "      <td>1.000000</td>\n",
              "      <td>1.016565e+06</td>\n",
              "    </tr>\n",
              "    <tr>\n",
              "      <th>25%</th>\n",
              "      <td>26.000000</td>\n",
              "      <td>0.000000</td>\n",
              "      <td>3.000000</td>\n",
              "      <td>1.222784e+08</td>\n",
              "    </tr>\n",
              "    <tr>\n",
              "      <th>50%</th>\n",
              "      <td>30.000000</td>\n",
              "      <td>0.000000</td>\n",
              "      <td>3.000000</td>\n",
              "      <td>2.408255e+08</td>\n",
              "    </tr>\n",
              "    <tr>\n",
              "      <th>75%</th>\n",
              "      <td>33.000000</td>\n",
              "      <td>2.000000</td>\n",
              "      <td>4.000000</td>\n",
              "      <td>3.578412e+08</td>\n",
              "    </tr>\n",
              "    <tr>\n",
              "      <th>max</th>\n",
              "      <td>37.000000</td>\n",
              "      <td>4.000000</td>\n",
              "      <td>6.000000</td>\n",
              "      <td>7.228870e+08</td>\n",
              "    </tr>\n",
              "  </tbody>\n",
              "</table>\n",
              "</div>"
            ],
            "text/plain": [
              "              Usia  Jumlah_Anak  Total_Kepemilikan_Produk  \\\n",
              "count  3305.000000  3305.000000               3305.000000   \n",
              "mean     29.503177     1.191528                  3.243873   \n",
              "std       4.254972     1.480683                  1.008655   \n",
              "min      20.000000     0.000000                  1.000000   \n",
              "25%      26.000000     0.000000                  3.000000   \n",
              "50%      30.000000     0.000000                  3.000000   \n",
              "75%      33.000000     2.000000                  4.000000   \n",
              "max      37.000000     4.000000                  6.000000   \n",
              "\n",
              "       Total_Relationship_Balance  \n",
              "count                3.305000e+03  \n",
              "mean                 2.439352e+08  \n",
              "std                  1.452356e+08  \n",
              "min                  1.016565e+06  \n",
              "25%                  1.222784e+08  \n",
              "50%                  2.408255e+08  \n",
              "75%                  3.578412e+08  \n",
              "max                  7.228870e+08  "
            ]
          },
          "execution_count": 91,
          "metadata": {},
          "output_type": "execute_result"
        }
      ],
      "source": [
        "data0[data0['Clustering_KMeans_Exp1_3']==1][['Usia','Jumlah_Anak','Total_Kepemilikan_Produk','Total_Relationship_Balance']].describe(include=\"all\")"
      ]
    },
    {
      "cell_type": "code",
      "execution_count": 92,
      "metadata": {
        "colab": {
          "base_uri": "https://localhost:8080/"
        },
        "id": "ifkwfD194kad",
        "outputId": "86ab8705-deed-4683-8ed6-b2016dff90e3"
      },
      "outputs": [
        {
          "data": {
            "text/plain": [
              "Area\n",
              "Jakarta     0.476248\n",
              "Bandung     0.179728\n",
              "Surabaya    0.126475\n",
              "Solo        0.118306\n",
              "Jogja       0.073222\n",
              "Bogor       0.026021\n",
              "Name: proportion, dtype: float64"
            ]
          },
          "execution_count": 92,
          "metadata": {},
          "output_type": "execute_result"
        }
      ],
      "source": [
        "data0[data0['Clustering_KMeans_Exp1_3']==1]['Area'].value_counts(normalize=True)"
      ]
    },
    {
      "cell_type": "code",
      "execution_count": 93,
      "metadata": {
        "colab": {
          "base_uri": "https://localhost:8080/"
        },
        "id": "g0svK77M4kae",
        "outputId": "d851706f-2ebd-434c-f682-aecc07bd76bc"
      },
      "outputs": [
        {
          "data": {
            "text/plain": [
              "Vintage\n",
              "2 - 3 Tahun    0.501967\n",
              "< 1 Tahun      0.293192\n",
              "> 4 Tahun      0.204841\n",
              "Name: proportion, dtype: float64"
            ]
          },
          "execution_count": 93,
          "metadata": {},
          "output_type": "execute_result"
        }
      ],
      "source": [
        "data0[data0['Clustering_KMeans_Exp1_3']==1]['Vintage'].value_counts(normalize=True)"
      ]
    },
    {
      "cell_type": "code",
      "execution_count": 94,
      "metadata": {
        "colab": {
          "base_uri": "https://localhost:8080/"
        },
        "id": "3y99jbM04kae",
        "outputId": "4809b413-f45d-4a3a-df90-2dfdc299f5ba"
      },
      "outputs": [
        {
          "data": {
            "text/plain": [
              "Pendidikan\n",
              "Sarjana                 0.274130\n",
              "SMA                     0.192436\n",
              "SD                      0.180333\n",
              "Doktor                  0.097731\n",
              "Magister                0.087443\n",
              "SMP                     0.084720\n",
              "Tidak Sekolah Formal    0.083207\n",
              "Name: proportion, dtype: float64"
            ]
          },
          "execution_count": 94,
          "metadata": {},
          "output_type": "execute_result"
        }
      ],
      "source": [
        "data0[data0['Clustering_KMeans_Exp1_3']==1]['Pendidikan'].value_counts(normalize=True)"
      ]
    },
    {
      "cell_type": "code",
      "execution_count": 95,
      "metadata": {
        "colab": {
          "base_uri": "https://localhost:8080/"
        },
        "id": "y9zooAuK4kae",
        "outputId": "96ac2710-bb4c-4670-e62a-6e7ef6ae92b4"
      },
      "outputs": [
        {
          "data": {
            "text/plain": [
              "Jenis_Kelamin\n",
              "Laki-laki    0.640847\n",
              "Perempuan    0.359153\n",
              "Name: proportion, dtype: float64"
            ]
          },
          "execution_count": 95,
          "metadata": {},
          "output_type": "execute_result"
        }
      ],
      "source": [
        "data0[data0['Clustering_KMeans_Exp1_3']==1]['Jenis_Kelamin'].value_counts(normalize=True)"
      ]
    },
    {
      "cell_type": "markdown",
      "metadata": {
        "id": "8PIMNiHr5lR0"
      },
      "source": [
        "Group 2"
      ]
    },
    {
      "cell_type": "code",
      "execution_count": 96,
      "metadata": {
        "colab": {
          "base_uri": "https://localhost:8080/",
          "height": 300
        },
        "id": "XwNOLj5c5orL",
        "outputId": "068de09f-594e-4056-b186-13b3dfa21318"
      },
      "outputs": [
        {
          "data": {
            "text/html": [
              "<div>\n",
              "<style scoped>\n",
              "    .dataframe tbody tr th:only-of-type {\n",
              "        vertical-align: middle;\n",
              "    }\n",
              "\n",
              "    .dataframe tbody tr th {\n",
              "        vertical-align: top;\n",
              "    }\n",
              "\n",
              "    .dataframe thead th {\n",
              "        text-align: right;\n",
              "    }\n",
              "</style>\n",
              "<table border=\"1\" class=\"dataframe\">\n",
              "  <thead>\n",
              "    <tr style=\"text-align: right;\">\n",
              "      <th></th>\n",
              "      <th>Usia</th>\n",
              "      <th>Jumlah_Anak</th>\n",
              "      <th>Total_Kepemilikan_Produk</th>\n",
              "      <th>Total_Relationship_Balance</th>\n",
              "    </tr>\n",
              "  </thead>\n",
              "  <tbody>\n",
              "    <tr>\n",
              "      <th>count</th>\n",
              "      <td>2943.000000</td>\n",
              "      <td>2943.000000</td>\n",
              "      <td>2943.000000</td>\n",
              "      <td>2.943000e+03</td>\n",
              "    </tr>\n",
              "    <tr>\n",
              "      <th>mean</th>\n",
              "      <td>44.974856</td>\n",
              "      <td>1.295617</td>\n",
              "      <td>3.158342</td>\n",
              "      <td>2.384758e+08</td>\n",
              "    </tr>\n",
              "    <tr>\n",
              "      <th>std</th>\n",
              "      <td>3.976996</td>\n",
              "      <td>1.474092</td>\n",
              "      <td>1.038061</td>\n",
              "      <td>1.439379e+08</td>\n",
              "    </tr>\n",
              "    <tr>\n",
              "      <th>min</th>\n",
              "      <td>38.000000</td>\n",
              "      <td>0.000000</td>\n",
              "      <td>1.000000</td>\n",
              "      <td>1.587496e+06</td>\n",
              "    </tr>\n",
              "    <tr>\n",
              "      <th>25%</th>\n",
              "      <td>42.000000</td>\n",
              "      <td>0.000000</td>\n",
              "      <td>2.000000</td>\n",
              "      <td>1.178243e+08</td>\n",
              "    </tr>\n",
              "    <tr>\n",
              "      <th>50%</th>\n",
              "      <td>45.000000</td>\n",
              "      <td>1.000000</td>\n",
              "      <td>3.000000</td>\n",
              "      <td>2.325173e+08</td>\n",
              "    </tr>\n",
              "    <tr>\n",
              "      <th>75%</th>\n",
              "      <td>48.000000</td>\n",
              "      <td>3.000000</td>\n",
              "      <td>4.000000</td>\n",
              "      <td>3.468223e+08</td>\n",
              "    </tr>\n",
              "    <tr>\n",
              "      <th>max</th>\n",
              "      <td>51.000000</td>\n",
              "      <td>4.000000</td>\n",
              "      <td>6.000000</td>\n",
              "      <td>7.259942e+08</td>\n",
              "    </tr>\n",
              "  </tbody>\n",
              "</table>\n",
              "</div>"
            ],
            "text/plain": [
              "              Usia  Jumlah_Anak  Total_Kepemilikan_Produk  \\\n",
              "count  2943.000000  2943.000000               2943.000000   \n",
              "mean     44.974856     1.295617                  3.158342   \n",
              "std       3.976996     1.474092                  1.038061   \n",
              "min      38.000000     0.000000                  1.000000   \n",
              "25%      42.000000     0.000000                  2.000000   \n",
              "50%      45.000000     1.000000                  3.000000   \n",
              "75%      48.000000     3.000000                  4.000000   \n",
              "max      51.000000     4.000000                  6.000000   \n",
              "\n",
              "       Total_Relationship_Balance  \n",
              "count                2.943000e+03  \n",
              "mean                 2.384758e+08  \n",
              "std                  1.439379e+08  \n",
              "min                  1.587496e+06  \n",
              "25%                  1.178243e+08  \n",
              "50%                  2.325173e+08  \n",
              "75%                  3.468223e+08  \n",
              "max                  7.259942e+08  "
            ]
          },
          "execution_count": 96,
          "metadata": {},
          "output_type": "execute_result"
        }
      ],
      "source": [
        "data0[data0['Clustering_KMeans_Exp1_3']==2][['Usia','Jumlah_Anak','Total_Kepemilikan_Produk','Total_Relationship_Balance']].describe(include=\"all\")"
      ]
    },
    {
      "cell_type": "code",
      "execution_count": 97,
      "metadata": {
        "colab": {
          "base_uri": "https://localhost:8080/"
        },
        "id": "2hRzFGTR5orL",
        "outputId": "46eab526-7aa8-446e-d901-281adfa5acaa"
      },
      "outputs": [
        {
          "data": {
            "text/plain": [
              "Area\n",
              "Jakarta     0.476248\n",
              "Bandung     0.179728\n",
              "Surabaya    0.126475\n",
              "Solo        0.118306\n",
              "Jogja       0.073222\n",
              "Bogor       0.026021\n",
              "Name: proportion, dtype: float64"
            ]
          },
          "execution_count": 97,
          "metadata": {},
          "output_type": "execute_result"
        }
      ],
      "source": [
        "data0[data0['Clustering_KMeans_Exp1_3']==1]['Area'].value_counts(normalize=True)"
      ]
    },
    {
      "cell_type": "code",
      "execution_count": 98,
      "metadata": {
        "colab": {
          "base_uri": "https://localhost:8080/"
        },
        "id": "B327rSs65orM",
        "outputId": "9fca5aa4-871d-4dd9-fa99-839be9372ade"
      },
      "outputs": [
        {
          "data": {
            "text/plain": [
              "Vintage\n",
              "2 - 3 Tahun    0.501967\n",
              "< 1 Tahun      0.293192\n",
              "> 4 Tahun      0.204841\n",
              "Name: proportion, dtype: float64"
            ]
          },
          "execution_count": 98,
          "metadata": {},
          "output_type": "execute_result"
        }
      ],
      "source": [
        "data0[data0['Clustering_KMeans_Exp1_3']==1]['Vintage'].value_counts(normalize=True)"
      ]
    },
    {
      "cell_type": "code",
      "execution_count": 100,
      "metadata": {
        "colab": {
          "base_uri": "https://localhost:8080/"
        },
        "id": "C5gUgDRx5orM",
        "outputId": "9990b660-e9fc-42b0-9354-7a4f65a68327"
      },
      "outputs": [
        {
          "data": {
            "text/plain": [
              "Pendidikan\n",
              "Sarjana                 0.274130\n",
              "SMA                     0.192436\n",
              "SD                      0.180333\n",
              "Doktor                  0.097731\n",
              "Magister                0.087443\n",
              "SMP                     0.084720\n",
              "Tidak Sekolah Formal    0.083207\n",
              "Name: proportion, dtype: float64"
            ]
          },
          "execution_count": 100,
          "metadata": {},
          "output_type": "execute_result"
        }
      ],
      "source": [
        "data0[data0['Clustering_KMeans_Exp1_3']==1]['Pendidikan'].value_counts(normalize=True)"
      ]
    },
    {
      "cell_type": "code",
      "execution_count": 101,
      "metadata": {
        "colab": {
          "base_uri": "https://localhost:8080/"
        },
        "id": "GeHuhvjD5orM",
        "outputId": "c73c498c-0a88-4012-cb61-eb76419dcc44"
      },
      "outputs": [
        {
          "data": {
            "text/plain": [
              "Jenis_Kelamin\n",
              "Laki-laki    0.640847\n",
              "Perempuan    0.359153\n",
              "Name: proportion, dtype: float64"
            ]
          },
          "execution_count": 101,
          "metadata": {},
          "output_type": "execute_result"
        }
      ],
      "source": [
        "data0[data0['Clustering_KMeans_Exp1_3']==1]['Jenis_Kelamin'].value_counts(normalize=True)"
      ]
    }
  ],
  "metadata": {
    "colab": {
      "provenance": [],
      "toc_visible": true
    },
    "kernelspec": {
      "display_name": "base",
      "language": "python",
      "name": "python3"
    },
    "language_info": {
      "codemirror_mode": {
        "name": "ipython",
        "version": 3
      },
      "file_extension": ".py",
      "mimetype": "text/x-python",
      "name": "python",
      "nbconvert_exporter": "python",
      "pygments_lexer": "ipython3",
      "version": "3.11.5"
    },
    "orig_nbformat": 4
  },
  "nbformat": 4,
  "nbformat_minor": 0
}
